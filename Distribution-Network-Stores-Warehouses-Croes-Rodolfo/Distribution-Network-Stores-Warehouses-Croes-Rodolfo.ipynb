{
 "cells": [
  {
   "cell_type": "code",
   "execution_count": 1,
   "id": "c6ed7254",
   "metadata": {},
   "outputs": [],
   "source": [
    "# imports\n",
    "import random \n",
    "import numpy \n",
    "import math\n",
    "import pandas as pd\n",
    "import matplotlib.pyplot as plt\n",
    "import time\n",
    "from itertools import permutations\n",
    "import sys, heapq\n",
    "from itertools import chain"
   ]
  },
  {
   "cell_type": "markdown",
   "id": "6d523be1",
   "metadata": {},
   "source": [
    "## Part 2: Distribution Network Of Stores and Warehouses\n",
    "Given 23 stores and 2 warehouses, find the best delivery route to minimize daily cost of deliveries.\n",
    "\n",
    "Case 1: 2 Lorrys, no vans\n",
    "Case 2: 1 Lorry starting at W1, trucks at W2 \n",
    "Case 3: 1 Lorry starting at W2, trucks at W1\n",
    "Case 4: 0 Lorrys, all trucks\n",
    "\n",
    "Let's start by setting up the enviromnent"
   ]
  },
  {
   "cell_type": "code",
   "execution_count": 71,
   "id": "b6cbcfb3",
   "metadata": {
    "scrolled": true
   },
   "outputs": [
    {
     "name": "stdout",
     "output_type": "stream",
     "text": [
      "   Labels          X          Y\n",
      "0       1   6.758599  24.101122\n",
      "1       2  64.202021  21.278001\n",
      "2       3   3.282235  58.328059\n",
      "3       4   0.356408  71.253598\n",
      "4       5  47.541628  57.242195\n",
      "5       6  54.139172  10.163014\n",
      "6       7   5.163118  18.371369\n",
      "7       8  58.107734  97.325872\n",
      "8       9  22.371917  94.530747\n",
      "9      10  10.921515  26.902626\n",
      "10     11  40.283043  49.005961\n",
      "11     12  95.906795  31.253792\n",
      "12     13  38.806885  61.849634\n",
      "13     14  50.773628  41.712299\n",
      "14     15  16.121045   4.174152\n",
      "15     16  30.572526  25.664161\n",
      "16     17  88.654185  28.603406\n",
      "17     18  76.158333  52.060102\n",
      "18     19  57.990790  58.290169\n",
      "19     20  80.118010  80.742421\n",
      "20     21  99.879028  99.976906\n",
      "21     22   2.587208  45.808494\n",
      "22     23  74.049801   2.986131\n",
      "23     W1  71.709117  17.258171\n",
      "24     W2  16.606639  73.675291\n"
     ]
    }
   ],
   "source": [
    "# read in the coordinates section of excel sheet\n",
    "coordinates = pd.read_excel('Store-Warehouse-Data.xlsx', sheet_name='2024', usecols=\"A:C\", nrows=25)\n",
    "coordinates.rename({'Unnamed: 0': 'Labels'}, axis=1, inplace=True)\n",
    "# display information that has been read in\n",
    "print(coordinates)"
   ]
  },
  {
   "cell_type": "code",
   "execution_count": 72,
   "id": "6d00fd3d",
   "metadata": {
    "scrolled": true
   },
   "outputs": [
    {
     "data": {
      "image/png": "[encoded data removed]",
      "text/plain": [
       "<Figure size 640x480 with 1 Axes>"
      ]
     },
     "metadata": {},
     "output_type": "display_data"
    }
   ],
   "source": [
    "# plot a visual map using the coordinates\n",
    "plt.scatter(coordinates[\"X\"], coordinates[\"Y\"])\n",
    "for i in coordinates.index:\n",
    "    plt.annotate(coordinates[\"Labels\"][i], (coordinates[\"X\"][i], coordinates[\"Y\"][i]))\n",
    "plt.show()"
   ]
  },
  {
   "cell_type": "code",
   "execution_count": 73,
   "id": "cf7d38c8",
   "metadata": {},
   "outputs": [],
   "source": [
    "# Read in the distance matrix\n",
    "distance = pd.read_excel('Part 2 Data (2024).xlsx', sheet_name='2024', usecols=\"B:AA\", skiprows=28, nrows=25)\n",
    "distance.rename({'Unnamed: 1': 'Labels'}, axis=1, inplace=True)\n",
    "# Change the index to match the one in the excel sheet\n",
    "distance = distance.set_index('Labels')"
   ]
  },
  {
   "cell_type": "code",
   "execution_count": 74,
   "id": "b32951d2",
   "metadata": {},
   "outputs": [
    {
     "name": "stdout",
     "output_type": "stream",
     "text": [
      "          1     2      3      4     5      6      7      8      9     10  ...  \\\n",
      "Labels                                                                    ...   \n",
      "1         0  58.0   34.0   48.0  53.0   49.0    6.0   89.0   72.0    5.0  ...   \n",
      "2        58   0.0   71.0   81.0  40.0   15.0   59.0   76.0   84.0   54.0  ...   \n",
      "3        34  71.0    0.0   13.0  44.0   70.0   40.0   67.0   41.0   32.0  ...   \n",
      "4        48  81.0   13.0    0.0  49.0   81.0   53.0   63.0   32.0   46.0  ...   \n",
      "5        53  40.0   44.0   49.0   0.0   48.0   58.0   41.0   45.0   48.0  ...   \n",
      "6        49  15.0   70.0   81.0  48.0    0.0   50.0   87.0   90.0   46.0  ...   \n",
      "7         6  59.0   40.0   53.0  58.0   50.0    0.0   95.0   78.0   10.0  ...   \n",
      "8        89  76.0   67.0   63.0  41.0   87.0   95.0    0.0   36.0   85.0  ...   \n",
      "9        72  84.0   41.0   32.0  45.0   90.0   78.0   36.0    0.0   69.0  ...   \n",
      "10        5  54.0   32.0   46.0  48.0   46.0   10.0   85.0   69.0    0.0  ...   \n",
      "11       42  37.0   38.0   46.0  11.0   41.0   47.0   52.0   49.0   37.0  ...   \n",
      "12       89  33.0   97.0  104.0  55.0   47.0   92.0   76.0   97.0   85.0  ...   \n",
      "13       50  48.0   36.0   40.0  10.0   54.0   55.0   40.0   37.0   45.0  ...   \n",
      "14       47  24.0   50.0   58.0  16.0   32.0   51.0   56.0   60.0   43.0  ...   \n",
      "15       22  51.0   56.0   69.0  62.0   38.0   18.0  102.0   91.0   23.0  ...   \n",
      "16       24  34.0   43.0   55.0  36.0   28.0   26.0   77.0   69.0   20.0  ...   \n",
      "17       82  26.0   90.0   98.0  50.0   39.0   84.0   75.0   93.0   78.0  ...   \n",
      "18       75  33.0   73.0   78.0  29.0   47.0   79.0   49.0   69.0   70.0  ...   \n",
      "19       62  38.0   55.0   59.0  11.0   48.0   66.0   39.0   51.0   57.0  ...   \n",
      "20       93  62.0   80.0   80.0  40.0   75.0   98.0   28.0   59.0   88.0  ...   \n",
      "21      120  86.0  105.0  104.0  68.0  101.0  125.0   42.0   78.0  115.0  ...   \n",
      "22       22  66.0   13.0   26.0  46.0   63.0   28.0   76.0   53.0   21.0  ...   \n",
      "23       71  21.0   90.0  100.0  60.0   21.0   71.0   96.0  105.0   68.0  ...   \n",
      "W1       65   9.0   80.0   89.0  47.0   19.0   67.0   81.0   92.0   62.0  ...   \n",
      "W2       51  71.0   20.0   16.0  35.0   74.0   56.0   48.0   22.0   47.0  ...   \n",
      "\n",
      "           16    17    18    19     20     21     22     23    W1    W2  \n",
      "Labels                                                                   \n",
      "1        24.0  82.0  75.0  62.0   93.0  120.0   22.0   71.0  65.0  51.0  \n",
      "2        34.0  26.0  33.0  38.0   62.0   86.0   66.0   21.0   9.0  71.0  \n",
      "3        43.0  90.0  73.0  55.0   80.0  105.0   13.0   90.0  80.0  20.0  \n",
      "4        55.0  98.0  78.0  59.0   80.0  104.0   26.0  100.0  89.0  16.0  \n",
      "5        36.0  50.0  29.0  11.0   40.0   68.0   46.0   60.0  47.0  35.0  \n",
      "6        28.0  39.0  47.0  48.0   75.0  101.0   63.0   21.0  19.0  74.0  \n",
      "7        26.0  84.0  79.0  66.0   98.0  125.0   28.0   71.0  67.0  56.0  \n",
      "8        77.0  75.0  49.0  39.0   28.0   42.0   76.0   96.0  81.0  48.0  \n",
      "9        69.0  93.0  69.0  51.0   59.0   78.0   53.0  105.0  92.0  22.0  \n",
      "10       20.0  78.0  70.0  57.0   88.0  115.0   21.0   68.0  62.0  47.0  \n",
      "11       25.0  52.0  36.0  20.0   51.0   78.0   38.0   57.0  45.0  34.0  \n",
      "12       66.0   8.0  29.0  47.0   52.0   69.0   94.0   36.0  28.0  90.0  \n",
      "13       37.0  60.0  39.0  20.0   45.0   72.0   40.0   69.0  55.0  25.0  \n",
      "14       26.0  40.0  27.0  18.0   49.0   76.0   48.0   45.0  32.0  47.0  \n",
      "15       26.0  77.0  77.0  68.0  100.0  127.0   44.0   58.0  57.0  70.0  \n",
      "16        0.0  58.0  53.0  43.0   74.0  102.0   34.0   49.0  42.0  50.0  \n",
      "17       58.0   0.0  27.0  43.0   53.0   72.0   88.0   29.0  20.0  85.0  \n",
      "18       53.0  27.0   0.0  19.0   29.0   53.0   74.0   49.0  35.0  63.0  \n",
      "19       43.0  43.0  19.0   0.0   32.0   59.0   57.0   58.0  43.0  44.0  \n",
      "20       74.0  53.0  29.0  32.0    0.0   28.0   85.0   78.0  64.0  64.0  \n",
      "21      102.0  72.0  53.0  59.0   28.0    0.0  111.0  100.0  87.0  87.0  \n",
      "22       34.0  88.0  74.0  57.0   85.0  111.0    0.0   83.0  75.0  31.0  \n",
      "23       49.0  29.0  49.0  58.0   78.0  100.0   83.0    0.0  14.0  91.0  \n",
      "W1       42.0  20.0  35.0  43.0   64.0   87.0   75.0   14.0   0.0  79.0  \n",
      "W2       50.0  85.0  63.0  44.0   64.0   87.0   31.0   91.0  79.0   0.0  \n",
      "\n",
      "[25 rows x 25 columns]\n"
     ]
    },
    {
     "name": "stderr",
     "output_type": "stream",
     "text": [
      "C:\\Users\\rodol\\AppData\\Local\\Temp\\ipykernel_5680\\118299732.py:5: SettingWithCopyWarning: \n",
      "A value is trying to be set on a copy of a slice from a DataFrame\n",
      "\n",
      "See the caveats in the documentation: https://pandas.pydata.org/pandas-docs/stable/user_guide/indexing.html#returning-a-view-versus-a-copy\n",
      "  distance[i][j] = distance[j][i]\n"
     ]
    }
   ],
   "source": [
    "# Fill in the rest of the distance matrix\n",
    "for i in distance.index:\n",
    "    for j in distance.columns:\n",
    "        if numpy.isnan(distance[i][j]):\n",
    "            distance[i][j] = distance[j][i]\n",
    "# Display the distance matrix\n",
    "print(distance)\n"
   ]
  },
  {
   "cell_type": "code",
   "execution_count": 75,
   "id": "afc9b153",
   "metadata": {},
   "outputs": [
    {
     "name": "stdout",
     "output_type": "stream",
     "text": [
      "[[  0.  58.  34.  48.  53.  49.   6.  89.  72.   5.  42.  89.  50.  47.\n",
      "   22.  24.  82.  75.  62.  93. 120.  22.  71.  65.  51.]\n",
      " [ 58.   0.  71.  81.  40.  15.  59.  76.  84.  54.  37.  33.  48.  24.\n",
      "   51.  34.  26.  33.  38.  62.  86.  66.  21.   9.  71.]\n",
      " [ 34.  71.   0.  13.  44.  70.  40.  67.  41.  32.  38.  97.  36.  50.\n",
      "   56.  43.  90.  73.  55.  80. 105.  13.  90.  80.  20.]\n",
      " [ 48.  81.  13.   0.  49.  81.  53.  63.  32.  46.  46. 104.  40.  58.\n",
      "   69.  55.  98.  78.  59.  80. 104.  26. 100.  89.  16.]\n",
      " [ 53.  40.  44.  49.   0.  48.  58.  41.  45.  48.  11.  55.  10.  16.\n",
      "   62.  36.  50.  29.  11.  40.  68.  46.  60.  47.  35.]\n",
      " [ 49.  15.  70.  81.  48.   0.  50.  87.  90.  46.  41.  47.  54.  32.\n",
      "   38.  28.  39.  47.  48.  75. 101.  63.  21.  19.  74.]\n",
      " [  6.  59.  40.  53.  58.  50.   0.  95.  78.  10.  47.  92.  55.  51.\n",
      "   18.  26.  84.  79.  66.  98. 125.  28.  71.  67.  56.]\n",
      " [ 89.  76.  67.  63.  41.  87.  95.   0.  36.  85.  52.  76.  40.  56.\n",
      "  102.  77.  75.  49.  39.  28.  42.  76.  96.  81.  48.]\n",
      " [ 72.  84.  41.  32.  45.  90.  78.  36.   0.  69.  49.  97.  37.  60.\n",
      "   91.  69.  93.  69.  51.  59.  78.  53. 105.  92.  22.]\n",
      " [  5.  54.  32.  46.  48.  46.  10.  85.  69.   0.  37.  85.  45.  43.\n",
      "   23.  20.  78.  70.  57.  88. 115.  21.  68.  62.  47.]\n",
      " [ 42.  37.  38.  46.  11.  41.  47.  52.  49.  37.   0.  58.  13.  13.\n",
      "   51.  25.  52.  36.  20.  51.  78.  38.  57.  45.  34.]\n",
      " [ 89.  33.  97. 104.  55.  47.  92.  76.  97.  85.  58.   0.  65.  46.\n",
      "   84.  66.   8.  29.  47.  52.  69.  94.  36.  28.  90.]\n",
      " [ 50.  48.  36.  40.  10.  54.  55.  40.  37.  45.  13.  65.   0.  23.\n",
      "   62.  37.  60.  39.  20.  45.  72.  40.  69.  55.  25.]\n",
      " [ 47.  24.  50.  58.  16.  32.  51.  56.  60.  43.  13.  46.  23.   0.\n",
      "   51.  26.  40.  27.  18.  49.  76.  48.  45.  32.  47.]\n",
      " [ 22.  51.  56.  69.  62.  38.  18. 102.  91.  23.  51.  84.  62.  51.\n",
      "    0.  26.  77.  77.  68. 100. 127.  44.  58.  57.  70.]\n",
      " [ 24.  34.  43.  55.  36.  28.  26.  77.  69.  20.  25.  66.  37.  26.\n",
      "   26.   0.  58.  53.  43.  74. 102.  34.  49.  42.  50.]\n",
      " [ 82.  26.  90.  98.  50.  39.  84.  75.  93.  78.  52.   8.  60.  40.\n",
      "   77.  58.   0.  27.  43.  53.  72.  88.  29.  20.  85.]\n",
      " [ 75.  33.  73.  78.  29.  47.  79.  49.  69.  70.  36.  29.  39.  27.\n",
      "   77.  53.  27.   0.  19.  29.  53.  74.  49.  35.  63.]\n",
      " [ 62.  38.  55.  59.  11.  48.  66.  39.  51.  57.  20.  47.  20.  18.\n",
      "   68.  43.  43.  19.   0.  32.  59.  57.  58.  43.  44.]\n",
      " [ 93.  62.  80.  80.  40.  75.  98.  28.  59.  88.  51.  52.  45.  49.\n",
      "  100.  74.  53.  29.  32.   0.  28.  85.  78.  64.  64.]\n",
      " [120.  86. 105. 104.  68. 101. 125.  42.  78. 115.  78.  69.  72.  76.\n",
      "  127. 102.  72.  53.  59.  28.   0. 111. 100.  87.  87.]\n",
      " [ 22.  66.  13.  26.  46.  63.  28.  76.  53.  21.  38.  94.  40.  48.\n",
      "   44.  34.  88.  74.  57.  85. 111.   0.  83.  75.  31.]\n",
      " [ 71.  21.  90. 100.  60.  21.  71.  96. 105.  68.  57.  36.  69.  45.\n",
      "   58.  49.  29.  49.  58.  78. 100.  83.   0.  14.  91.]\n",
      " [ 65.   9.  80.  89.  47.  19.  67.  81.  92.  62.  45.  28.  55.  32.\n",
      "   57.  42.  20.  35.  43.  64.  87.  75.  14.   0.  79.]\n",
      " [ 51.  71.  20.  16.  35.  74.  56.  48.  22.  47.  34.  90.  25.  47.\n",
      "   70.  50.  85.  63.  44.  64.  87.  31.  91.  79.   0.]]\n"
     ]
    }
   ],
   "source": [
    "# Convert this to a numpy matrix\n",
    "distance = distance.to_numpy()\n",
    "print(distance)"
   ]
  },
  {
   "cell_type": "code",
   "execution_count": 76,
   "id": "20d820af",
   "metadata": {},
   "outputs": [],
   "source": [
    "# Hill climb algorithm that takes in the coordinates, nodes chosen, distance matrix and number of steps\n",
    "# perform hill climb for lorrys by swapping stores within itself and testing the distance generated\n",
    "# keep the path with the shortest distance and repeat this process step times\n",
    "# Returns the best path and it's distance\n",
    "def tsphill(coords, nodes, dist, steps=1000):\n",
    "    # Create initial solution\n",
    "    # Gives the number of nodes\n",
    "    size = len(nodes)\n",
    "    # Initialize empty list to save best path\n",
    "    best_path = []\n",
    "    # Buids up a vector of stores/nodes passed in\n",
    "    for i in range(size-1):\n",
    "        best_path.append(nodes[i])\n",
    "    # Randomise in between path to get initial solution\n",
    "    random.shuffle(best_path)\n",
    "    # Set the starting node to the last node of the passed in list aka the start warehouse\n",
    "    best_path.insert(0, nodes[-1])\n",
    "    # Choose based on the last node which warehouse to go\n",
    "    if(dist[int(best_path[-1])-1][-1] > dist[int(best_path[-1])-1][-2]):\n",
    "        best_path.append(coords[\"Labels\"][23])\n",
    "    else:\n",
    "        best_path.append(coords[\"Labels\"][24])\n",
    "    # Find distance of created path\n",
    "    best_distance = 0\n",
    "    # add to the distance from warehouse to store 1\n",
    "    best_distance = best_distance + dist[0][best_path[1]]\n",
    "    # then the distances for the in between steps, from store 1 to store n-1\n",
    "    for i in range(1,size-1):\n",
    "        best_distance = best_distance + dist[best_path[i]-1][best_path[i+1]-1]  #Add distances of each part of the path\n",
    "    #after, add the distance from the last store to the distance of the closest warehouse\n",
    "    if str(best_path[-1]) == 'W1':\n",
    "        best_distance = best_distance + dist[best_path[size-1]][-2]\n",
    "    else:\n",
    "        best_distance = best_distance + dist[best_path[size-1]][-1]\n",
    "    \n",
    "    # Hill-climb Algorithm\n",
    "    # Number of hill-climb steps\n",
    "    number_of_swaps = steps\n",
    "\n",
    "    for x in range(number_of_swaps) :\n",
    "        ##### Create a new path\n",
    "        # randomly choose first and second entry to swap\n",
    "        entry1 = random.randint(1,len(best_path)-2) \n",
    "        entry2 = random.randint(1,len(best_path)-2) \n",
    "        # make a new path to account for the swap\n",
    "        new_path = best_path.copy()\n",
    "        # swap the two chosen entries\n",
    "        new_path[entry1],new_path[entry2] = new_path[entry2],new_path[entry1]\n",
    "        # determine which warehouse is closer to the last store after the swap\n",
    "        # then set the last warehouse to the closer one\n",
    "        if(dist[new_path[-2]][-1] > dist[new_path[-2]][-2]):\n",
    "            new_path[-1] = coords[\"Labels\"][23]\n",
    "        else:\n",
    "            new_path[-1] = coords[\"Labels\"][24]\n",
    "        # Calculate distance of the new path\n",
    "        # The first warehouse is not changed so our initial distance is 0\n",
    "        new_distance = 0\n",
    "        # add the distance from the starting warehouse to the first store\n",
    "        new_distance = new_distance + dist[0][new_path[1]]\n",
    "        # add the distances from the in between steps, from store 1 to store n-1\n",
    "        for i in range(1,size-1):\n",
    "            new_distance = new_distance + dist[new_path[i]-1][new_path[i+1]-1]  #Add distances of each part of the path\n",
    "        # add the distance from store n-1 to the closest warehouse.\n",
    "        if str(new_path[-1]) == 'W1':\n",
    "            new_distance = new_distance + dist[new_path[size-1]][-2]\n",
    "        else:\n",
    "            new_distance = new_distance + dist[new_path[size-1]][-1]\n",
    "       \n",
    "        # Check if new path is shorter than best path\n",
    "        # Replace best path & distance if needed\n",
    "        if new_distance < best_distance:\n",
    "            best_path = new_path.copy()\n",
    "            best_distance = new_distance\n",
    "    # Return the best path and distance\n",
    "    return best_path, best_distance"
   ]
  },
  {
   "cell_type": "code",
   "execution_count": 77,
   "id": "6d548bc7",
   "metadata": {},
   "outputs": [
    {
     "name": "stdout",
     "output_type": "stream",
     "text": [
      "[2, 6, 12, 14, 15, 16, 17, 18, 23, 'W1'] [1, 3, 4, 5, 7, 8, 9, 10, 11, 13, 19, 20, 21, 22, 'W2']\n"
     ]
    }
   ],
   "source": [
    "#Situation 1a: 2 Lorry's\n",
    "# Split the area in half and dedicate a zone to each warehouse\n",
    "# Initialize the two zones\n",
    "zone1 = []\n",
    "zone2 = []\n",
    "for i in coordinates.index:\n",
    "    if coordinates[\"X\"][i] > coordinates[\"Y\"][i]:\n",
    "        zone1.append(coordinates[\"Labels\"][i])\n",
    "    else:\n",
    "        zone2.append(coordinates[\"Labels\"][i])\n",
    "print(zone1, zone2)\n",
    "# Find shortest path starting from W1 or W2 and visiting every node"
   ]
  },
  {
   "cell_type": "code",
   "execution_count": 78,
   "id": "9647a353",
   "metadata": {},
   "outputs": [
    {
     "name": "stdout",
     "output_type": "stream",
     "text": [
      "['W1', 6, 2, 23, 17, 12, 18, 14, 16, 15, 'W1'] 229.0\n",
      "['W2', 9, 4, 3, 22, 1, 7, 10, 11, 13, 5, 19, 20, 21, 8, 'W2'] 296.0\n"
     ]
    }
   ],
   "source": [
    "# Show an example result of the algorithm on each zone\n",
    "path1, distance1 = tsphill(coordinates, zone1, distance)\n",
    "path2, distance2 = tsphill(coordinates, zone2, distance)\n",
    "print(path1, distance1)\n",
    "print(path2, distance2)"
   ]
  },
  {
   "cell_type": "code",
   "execution_count": 79,
   "id": "4a97d3e8",
   "metadata": {},
   "outputs": [
    {
     "name": "stdout",
     "output_type": "stream",
     "text": [
      "[(['W1', 15, 16, 14, 18, 12, 17, 2, 6, 23, 'W1'], 202.0), (['W1', 15, 16, 14, 18, 12, 17, 2, 6, 23, 'W1'], 202.0), (['W1', 15, 16, 14, 18, 12, 17, 2, 6, 23, 'W1'], 202.0), (['W1', 15, 16, 14, 18, 12, 17, 2, 6, 23, 'W1'], 202.0), (['W1', 15, 16, 14, 18, 12, 17, 2, 6, 23, 'W1'], 202.0)]\n",
      "Hill Climb gives us: \n"
     ]
    },
    {
     "data": {
      "image/png": "[encoded data removed]",
      "text/plain": [
       "<Figure size 640x480 with 1 Axes>"
      ]
     },
     "metadata": {},
     "output_type": "display_data"
    }
   ],
   "source": [
    "# perform the algorithm 1000 times with base case of 1000 steps on zone 1\n",
    "# put the results of each hill climb in a list\n",
    "iterations = 1000\n",
    "bestlist = []\n",
    "for i in range(iterations):\n",
    "    temppath, tempdistance = tsphill(coordinates, zone1, distance)\n",
    "    bestlist.append((temppath, tempdistance))\n",
    "# from the list, take the top 5 and print them\n",
    "bestlist.sort(key=lambda item: item[-1], reverse = False)\n",
    "print(bestlist[0:5])\n",
    "# plot the list of paths based on distance and see how consistent it is\n",
    "flist = []\n",
    "print(\"Hill Climb gives us: \")\n",
    "for i in bestlist:\n",
    "    flist.append(i[-1])\n",
    "plt.hist(flist)\n",
    "plt.show()"
   ]
  },
  {
   "cell_type": "code",
   "execution_count": 80,
   "id": "91f679cb",
   "metadata": {
    "scrolled": true
   },
   "outputs": [
    {
     "name": "stdout",
     "output_type": "stream",
     "text": [
      "[(['W2', 9, 8, 21, 20, 19, 5, 11, 13, 4, 3, 22, 10, 7, 1, 'W1'], 290.0), (['W2', 9, 8, 21, 20, 19, 5, 11, 13, 4, 3, 22, 10, 7, 1, 'W1'], 290.0), (['W2', 9, 8, 21, 20, 19, 5, 11, 13, 4, 3, 22, 10, 7, 1, 'W1'], 290.0), (['W2', 9, 8, 21, 20, 19, 5, 11, 13, 4, 3, 22, 10, 7, 1, 'W1'], 290.0), (['W2', 9, 8, 21, 20, 19, 5, 11, 13, 4, 3, 22, 10, 7, 1, 'W1'], 290.0)]\n",
      "Hill Climb gives us: \n"
     ]
    },
    {
     "data": {
      "image/png": "[encoded data removed]",
      "text/plain": [
       "<Figure size 640x480 with 1 Axes>"
      ]
     },
     "metadata": {},
     "output_type": "display_data"
    }
   ],
   "source": [
    "# perform the algorithm 1000 times with base case of 1000 steps on zone 2\n",
    "# put the results of each hill climb in a list\n",
    "iterations = 1000\n",
    "bestlist = []\n",
    "for i in range(iterations):\n",
    "    temppath, tempdistance = tsphill(coordinates, zone2, distance)\n",
    "    bestlist.append((temppath, tempdistance))\n",
    "# from the hill climb list, take the top 5 and print them\n",
    "bestlist.sort(key=lambda item: item[-1], reverse = False)\n",
    "print(bestlist[0:5])\n",
    "# plot the list and see how consistent it is\n",
    "flist = []\n",
    "print(\"Hill Climb gives us: \")\n",
    "for i in bestlist:\n",
    "    flist.append(i[-1])\n",
    "plt.hist(flist)\n",
    "plt.show()"
   ]
  },
  {
   "cell_type": "markdown",
   "id": "f4a45a41",
   "metadata": {},
   "source": [
    "### Results 1a\n",
    "The best path for 2 lorry's when splitting the area in half gives us the following paths:\n",
    "['W1', 15, 16, 14, 18, 12, 17, 2, 6, 23, 'W1']\n",
    "['W2', 9, 8, 21, 20, 19, 5, 11, 13, 4, 3, 22, 10, 7, 1, 'W1']\n",
    "\n",
    "With the first path costing £202 * 2 = £404\n",
    "And the second path costing £290 * 2 = £580\n",
    "Thus total cost is £404 + £580 = £984"
   ]
  },
  {
   "cell_type": "code",
   "execution_count": 1417,
   "id": "aecef11e",
   "metadata": {
    "scrolled": true
   },
   "outputs": [
    {
     "name": "stdout",
     "output_type": "stream",
     "text": [
      "[21, 2, 23, 6, 17, 12, 14, 18, 16, 15, 20, 'W1'] [7, 4, 3, 9, 13, 22, 11, 5, 19, 10, 8, 1, 'W2']\n"
     ]
    }
   ],
   "source": [
    "#Situation 1b: 2 Lorry's\n",
    "# Split the amount of stores in half based on the range from the warehouses\n",
    "# start with new zones to save the states\n",
    "zone1 = []\n",
    "zone2 = []\n",
    "# make copy of distances from warehouse to each node\n",
    "w1dlist = numpy.copy(distance[-2])\n",
    "w2dlist = numpy.copy(distance[-1])\n",
    "# check for every element in which zone it will fall into\n",
    "for i in range(len(distance)):\n",
    "    # find minimum distance from warehouse 1 to any point\n",
    "    tempmin1 = (w1dlist.argmin()) + 1\n",
    "    # replace the number logic to append the warehouse to the list\n",
    "    if tempmin1 == 24:\n",
    "        tempmin1 = 'W1'\n",
    "    if tempmin1 == 25:\n",
    "        tempmin1 = 'W2'\n",
    "    # if this node has not been visited, save it to one of the zones\n",
    "    if tempmin1 not in zone2 and tempmin1 not in zone1:\n",
    "        zone1.append(tempmin1)\n",
    "    # add back the number logic for warehouse\n",
    "    if tempmin1 == 'W1':\n",
    "        tempmin1 = 24\n",
    "    if tempmin1 == 'W2':\n",
    "        tempmin1 = 25\n",
    "    # set the distance of the node to a large number s.t this number is skipped\n",
    "    w1dlist[tempmin1-1] = 100000\n",
    "    # do the same thing as above for the other lorry\n",
    "    tempmin2 = (w2dlist.argmin()) + 1\n",
    "    if tempmin2 == 24:\n",
    "        tempmin2 = 'W1'\n",
    "    if tempmin2 == 25:\n",
    "        tempmin2 = 'W2'\n",
    "    if tempmin2 not in zone1 and tempmin2 not in zone2:\n",
    "        zone2.append(tempmin2)\n",
    "    if tempmin2 == 'W1':\n",
    "        tempmin2 = 24\n",
    "    if tempmin2 == 'W2':\n",
    "        tempmin2 = 25\n",
    "    w2dlist[tempmin2-1] = 100000\n",
    "# shift the warehouse element to last\n",
    "zone1[0], zone1[-1] = zone1[-1], zone1[0]\n",
    "zone2[0], zone2[-1] = zone2[-1], zone2[0]\n",
    "# Display the two zones\n",
    "print(zone1, zone2)"
   ]
  },
  {
   "cell_type": "code",
   "execution_count": 1418,
   "id": "1e464c91",
   "metadata": {},
   "outputs": [
    {
     "name": "stdout",
     "output_type": "stream",
     "text": [
      "['W1', 15, 16, 14, 2, 6, 23, 17, 12, 18, 20, 21, 'W2'] 290.0\n",
      "['W2', 10, 7, 1, 4, 9, 8, 19, 5, 11, 13, 3, 22, 'W1'] 311.0\n"
     ]
    }
   ],
   "source": [
    "# Find shortest path starting from W1 or W2. visiting every node specified and ending at a warehouse\n",
    "# Hill climb algorithm applied\n",
    "path1, distance1 = tsphill(coordinates, zone1, distance)\n",
    "path2, distance2 = tsphill(coordinates, zone2, distance)\n",
    "print(path1, distance1)\n",
    "print(path2, distance2)"
   ]
  },
  {
   "cell_type": "code",
   "execution_count": 1419,
   "id": "a5242911",
   "metadata": {},
   "outputs": [
    {
     "name": "stdout",
     "output_type": "stream",
     "text": [
      "[(['W1', 21, 20, 18, 12, 17, 2, 14, 16, 15, 6, 23, 'W1'], 277.0), (['W1', 21, 20, 18, 12, 17, 2, 14, 16, 15, 6, 23, 'W1'], 277.0), (['W1', 21, 20, 18, 12, 17, 2, 14, 16, 15, 6, 23, 'W1'], 277.0), (['W1', 21, 20, 18, 12, 17, 2, 14, 16, 15, 6, 23, 'W1'], 277.0), (['W1', 21, 20, 18, 12, 17, 2, 14, 16, 15, 6, 23, 'W1'], 277.0)]\n",
      "Hill Climb gives us: \n"
     ]
    },
    {
     "data": {
      "image/png": "[encoded data removed]",
      "text/plain": [
       "<Figure size 640x480 with 1 Axes>"
      ]
     },
     "metadata": {},
     "output_type": "display_data"
    }
   ],
   "source": [
    "# perform the algorithm 1000 times with base case of 1000 steps\n",
    "# put the results of each hill climb in a list\n",
    "iterations = 1000\n",
    "bestlist = []\n",
    "for i in range(iterations):\n",
    "    temppath, tempdistance = tsphill(coordinates, zone1, distance)\n",
    "    bestlist.append((temppath, tempdistance))\n",
    "# from the list, take the top 5 and print them\n",
    "bestlist.sort(key=lambda item: item[-1], reverse = False)\n",
    "print(bestlist[0:5])\n",
    "# plot the list and see how consistent it is\n",
    "flist = []\n",
    "print(\"Hill Climb gives us: \")\n",
    "for i in bestlist:\n",
    "    flist.append(i[-1])\n",
    "plt.hist(flist)\n",
    "plt.show()"
   ]
  },
  {
   "cell_type": "code",
   "execution_count": 1420,
   "id": "403b64eb",
   "metadata": {},
   "outputs": [
    {
     "name": "stdout",
     "output_type": "stream",
     "text": [
      "[(['W2', 9, 8, 19, 5, 11, 13, 4, 3, 22, 10, 7, 1, 'W1'], 227.0), (['W2', 9, 8, 19, 5, 11, 13, 4, 3, 22, 10, 7, 1, 'W1'], 227.0), (['W2', 9, 8, 19, 5, 11, 13, 4, 3, 22, 10, 7, 1, 'W1'], 227.0), (['W2', 9, 8, 19, 5, 11, 13, 4, 3, 22, 10, 7, 1, 'W1'], 227.0), (['W2', 9, 8, 19, 5, 11, 13, 4, 3, 22, 10, 7, 1, 'W1'], 227.0)]\n",
      "Hill Climb gives us: \n"
     ]
    },
    {
     "data": {
      "image/png": "[encoded data removed]",
      "text/plain": [
       "<Figure size 640x480 with 1 Axes>"
      ]
     },
     "metadata": {},
     "output_type": "display_data"
    }
   ],
   "source": [
    "# perform the algorithm 1000 times with base case of 1000 steps\n",
    "# put the results of each hill climb in a list\n",
    "iterations = 1000\n",
    "bestlist = []\n",
    "for i in range(iterations):\n",
    "    temppath, tempdistance = tsphill(coordinates, zone2, distance)\n",
    "    bestlist.append((temppath, tempdistance))\n",
    "# from the hill climb list, take the top 5 and print them\n",
    "bestlist.sort(key=lambda item: item[-1], reverse = False)\n",
    "print(bestlist[0:5])\n",
    "# plot the list and see how consistent it is\n",
    "flist = []\n",
    "print(\"Hill Climb gives us: \")\n",
    "for i in bestlist:\n",
    "    flist.append(i[-1])\n",
    "plt.hist(flist)\n",
    "plt.show()"
   ]
  },
  {
   "cell_type": "markdown",
   "id": "80335067",
   "metadata": {},
   "source": [
    "### Results 1b\n",
    "The best path for 2 lorry's when splitting the stores in half gives us the following paths:\n",
    "['W1', 21, 20, 18, 12, 17, 2, 14, 16, 15, 6, 23, 'W1']\n",
    "['W2', 9, 8, 19, 5, 11, 13, 4, 3, 22, 10, 7, 1, 'W1']\n",
    "\n",
    "With the first path costing £277 * 2 = £554\n",
    "And the second path costing £227 * 2 = £454\n",
    "Thus total cost is £554 + £454 = £1008"
   ]
  },
  {
   "cell_type": "code",
   "execution_count": 1490,
   "id": "5683e0da",
   "metadata": {},
   "outputs": [
    {
     "name": "stdout",
     "output_type": "stream",
     "text": [
      "[2, 6, 12, 14, 15, 16, 17, 18, 23, 'W1'] [1, 3, 4, 5, 7, 8, 9, 10, 11, 13, 19, 20, 21, 22, 'W2']\n"
     ]
    }
   ],
   "source": [
    "#Situation 2a: All trucks\n",
    "# Split the area in half and dedicate a zone to each warehouse\n",
    "# Initialize the two zones\n",
    "zone1 = []\n",
    "zone2 = []\n",
    "for i in coordinates.index:\n",
    "    if coordinates[\"X\"][i] > coordinates[\"Y\"][i]:\n",
    "        zone1.append(coordinates[\"Labels\"][i])\n",
    "    else:\n",
    "        zone2.append(coordinates[\"Labels\"][i])\n",
    "print(zone1, zone2)\n",
    "# Find shortest path starting from W1 or W2 and visiting every node"
   ]
  },
  {
   "cell_type": "code",
   "execution_count": 1618,
   "id": "c41d939f",
   "metadata": {},
   "outputs": [],
   "source": [
    "#tsphill4 takes in the coordinates, the nodes, the distance and the amount of steps\n",
    "# find out how many trucks are needed based on the nodes\n",
    "# run the hill climb algorithm for n trucks and find the best paths one by one\n",
    "# of each truck, taking into account that no store is going to be visited twice\n",
    "# return n paths with their distance where n is the amount of trucks\n",
    "def tsphill4(coords, nodes, dist, steps=1000):\n",
    "    # Create initial solution\n",
    "    # Gives the number of nodes\n",
    "    size = len(nodes)\n",
    "    # determine the amount of trucks needed for the nodes\n",
    "    truckcount = math.ceil((size-1) / 4)\n",
    "    # generate a list to hold each path with it's distance\n",
    "    best_path_list = []\n",
    "    # separate the store nodes from the warehouse nodes (assuming warehouse is at end of the list)\n",
    "    storenodes = nodes[:-1]\n",
    "    # loop for number of trucks\n",
    "    for i in range(truckcount):\n",
    "        # make one path at random\n",
    "        best_path = []\n",
    "        # take a copy of the store to swap with\n",
    "        temp_nodes = storenodes.copy()\n",
    "        # if the truck is not visiting max stores, take the leftover stores and\n",
    "        # set them to the best path\n",
    "        if len(storenodes) < 4:\n",
    "            best_path = temp_nodes.copy()\n",
    "        # when the leftover stores are greater than 4, make a random initial path\n",
    "        # ensuring that no duplicates end up in the best path\n",
    "        else:\n",
    "            while(len(best_path) < 4):\n",
    "                newnode = random.choice(temp_nodes)\n",
    "                if newnode not in best_path:\n",
    "                    best_path.append(newnode)\n",
    "        # add the start warehouse node to the list\n",
    "        best_path.insert(0, nodes[-1])\n",
    "        # determine from the last node which warehouse will be visited last\n",
    "        if(dist[int(best_path[-1])][-1] > dist[int(best_path[-1])][-2]):\n",
    "            best_path.append('W1')\n",
    "        else:\n",
    "            best_path.append('W2')\n",
    "        # find distance of this basecase path\n",
    "        best_distance = 0\n",
    "        # add to the distance from warehouse to store 1\n",
    "        best_distance = best_distance + dist[0][best_path[1]-1]\n",
    "        # then the distances for the in between steps, from store 1 to store n-1\n",
    "        for i in range(1,len(best_path)-2):\n",
    "            best_distance = best_distance + dist[best_path[i]-1][best_path[i+1]-1]  #Add distances of each part of the path\n",
    "        #after, add the distance from the last store to the distance of the closest warehouse\n",
    "        if str(best_path[-1]) == 'W1':\n",
    "            best_distance = best_distance + dist[best_path[-2]][-2]\n",
    "        else:\n",
    "            best_distance = best_distance + dist[best_path[-2]][-1]\n",
    "        # Hill-climb Algorithm\n",
    "        # Number of hill-climb steps\n",
    "        number_of_swaps = steps \n",
    "        # if there is a path with only one store, early return the list of best path\n",
    "        # including the last truck\n",
    "        if len(best_path) <= 3:\n",
    "            best_path_list.append((best_path, best_distance))\n",
    "            return best_path_list\n",
    "        \n",
    "        # iterate over number of swaps\n",
    "        for x in range(number_of_swaps) :\n",
    "            ##### Create a new path\n",
    "            # randomly choose first entry from the path\n",
    "            # and the second entry from the leftover stores to swap\n",
    "            entry1 = random.randint(1,len(best_path)-2) \n",
    "            entry2 = random.randint(1,len(temp_nodes)-1) \n",
    "            # make a new path to account for the swap\n",
    "            new_path = best_path.copy()\n",
    "            # swap the two chosen entries\n",
    "            if temp_nodes[entry2] not in new_path:\n",
    "                new_path[entry1],temp_nodes[entry2] = temp_nodes[entry2],new_path[entry1]\n",
    "            # determine which warehouse is closer to the last store after the swap\n",
    "            # then set the last warehouse to the closer one\n",
    "            if(dist[new_path[-2]][-1] > dist[new_path[-2]][-2]):\n",
    "                new_path[-1] = 'W1'\n",
    "            else:\n",
    "                new_path[-1] = 'W2'\n",
    "            # Calculate distance of the new path\n",
    "            # The first warehouse is not changed so our initial distance is 0\n",
    "            new_distance = 0\n",
    "            # add the distance from the starting warehouse to the first store\n",
    "            new_distance = new_distance + dist[0][new_path[1]]\n",
    "            # add the distances from the in between steps, from store 1 to store n-1\n",
    "            for i in range(1,len(new_path)-2):\n",
    "                new_distance = new_distance + dist[new_path[i]-1][new_path[i+1]-1]  #Add distances of each part of the path\n",
    "            # add the distance from store n-1 to the closest warehouse.\n",
    "            if str(new_path[-1]) == 'W1':\n",
    "                new_distance = new_distance + dist[new_path[-2]][-2]\n",
    "            else:\n",
    "                new_distance = new_distance + dist[new_path[-2]][-1]\n",
    "       \n",
    "            # Check if new path is shorter than best path\n",
    "            # Replace best path & distance if needed\n",
    "            if new_distance < best_distance:\n",
    "                best_path = new_path.copy()\n",
    "                best_distance = new_distance\n",
    "                \n",
    "        # add best path to a list of paths\n",
    "        best_path_list.append((best_path, best_distance))\n",
    "        # remove the selected node from the list\n",
    "        for i in best_path[1:-1]:\n",
    "            storenodes.remove(i)\n",
    "    # return the list of best paths generated\n",
    "    return best_path_list"
   ]
  },
  {
   "cell_type": "code",
   "execution_count": 1619,
   "id": "610983b1",
   "metadata": {},
   "outputs": [
    {
     "name": "stdout",
     "output_type": "stream",
     "text": [
      "[(['W1', 14, 23, 2, 6, 'W2'], 159.0), (['W1', 12, 18, 15, 16, 'W1'], 202.0), (['W1', 17, 'W1'], 117.0)]\n"
     ]
    }
   ],
   "source": [
    "# show that the hill climb works for one zone\n",
    "path1 = tsphill4(coordinates, zone1, distance)\n",
    "print(path1)"
   ]
  },
  {
   "cell_type": "code",
   "execution_count": 1620,
   "id": "3e126659",
   "metadata": {},
   "outputs": [
    {
     "name": "stdout",
     "output_type": "stream",
     "text": [
      "[(['W2', 3, 13, 5, 1, 'W1'], 156.0), (['W2', 21, 19, 11, 8, 'W2'], 175.0), (['W2', 9, 4, 22, 7, 'W2'], 139.0), (['W2', 10, 20, 'W2'], 180.0)]\n"
     ]
    }
   ],
   "source": [
    "# show that the hill climb works for the other zone\n",
    "path2 = tsphill4(coordinates, zone2, distance)\n",
    "print(path2)"
   ]
  },
  {
   "cell_type": "code",
   "execution_count": 1626,
   "id": "000db8ff",
   "metadata": {},
   "outputs": [
    {
     "name": "stdout",
     "output_type": "stream",
     "text": [
      "([(['W1', 15, 6, 2, 23, 'W1'], 98.0), (['W1', 14, 18, 17, 12, 'W2'], 109.0), (['W1', 16, 'W1'], 44.0)], 251.0)\n"
     ]
    }
   ],
   "source": [
    "# perform the algorithm 1000 times with base case of 1000 steps\n",
    "# put the results of each hill climb, with the total distance of the zone in a list\n",
    "iterations = 10000\n",
    "bestlist = []\n",
    "for i in range(iterations):\n",
    "    total_distance = 0\n",
    "    temppath_list = tsphill4(coordinates, zone1, distance)\n",
    "    # fitness determination of list of paths\n",
    "    for i in temppath_list:\n",
    "        total_distance += i[1]\n",
    "    bestlist.append((temppath_list, total_distance))\n",
    "# from the list, take the top 5 and print them\n",
    "bestlist.sort(key=lambda item: item[-1], reverse = False)\n",
    "print(bestlist[0])"
   ]
  },
  {
   "cell_type": "code",
   "execution_count": 1627,
   "id": "b9f8c42e",
   "metadata": {},
   "outputs": [
    {
     "name": "stdout",
     "output_type": "stream",
     "text": [
      "([(['W2', 21, 20, 19, 5, 'W1'], 112.0), (['W2', 9, 4, 3, 22, 'W1'], 77.0), (['W2', 1, 13, 11, 8, 'W2'], 137.0), (['W2', 7, 10, 'W2'], 50.0)], 376.0)\n"
     ]
    }
   ],
   "source": [
    "# perform the algorithm 1000 times with base case of 1000 steps\n",
    "# put the results of each hill climb, with the total distance of the zone in a list\n",
    "iterations = 10000\n",
    "bestlist = []\n",
    "for i in range(iterations):\n",
    "    total_distance = 0\n",
    "    temppath_list = tsphill4(coordinates, zone2, distance)\n",
    "    # fitness determination of list of paths\n",
    "    for i in temppath_list:\n",
    "        total_distance += i[1]\n",
    "    bestlist.append((temppath_list, total_distance))\n",
    "# from the walk list, take the top 5 and print them\n",
    "bestlist.sort(key=lambda item: item[-1], reverse = False)\n",
    "print(bestlist[0])"
   ]
  },
  {
   "cell_type": "markdown",
   "id": "91907e76",
   "metadata": {},
   "source": [
    "### Results 2a\n",
    "The best path for all trucks when splitting the stores in half by area gives us the following paths:\n",
    "['W1', 15, 6, 2, 23, 'W1'], ['W1', 14, 18, 17, 12, 'W2'], ['W1', 16, 'W1'], \n",
    "['W2', 21, 20, 19, 5, 'W1'], ['W2', 9, 4, 3, 22, 'W1'], ['W2', 1, 13, 11, 8, 'W2'], ['W2', 7, 10, 'W2'] \n",
    "\n",
    "With the first 3 paths costing £251\n",
    "And the rest of the paths costing £376\n",
    "Thus total cost is £251 + £376 = £627\n",
    "\n",
    "### Results 2b\n",
    "The best path for 1 lorry at warehouse 1 and 4 trucks at warehouse 2 gives us:\n",
    "['W1', 15, 16, 14, 18, 12, 17, 2, 6, 23, 'W1']\n",
    "['W2', 21, 20, 19, 5, 'W1'], ['W2', 9, 4, 3, 22, 'W1'], ['W2', 1, 13, 11, 8, 'W2'], ['W2', 7, 10, 'W2']\n",
    "With the lorry costing £202 * 2 = £404\n",
    "And the 4 trucks costing £376\n",
    "Thus total cost is £404 + £376 = £780\n",
    "\n",
    "### Result 2c\n",
    "The best path for 1 lorry at warehouse 2 and 3 trucks at warehouse 1 gives us:\n",
    "['W2', 9, 8, 21, 20, 19, 5, 11, 13, 4, 3, 22, 10, 7, 1, 'W1']\n",
    "['W1', 15, 6, 2, 23, 'W1'], ['W1', 14, 18, 17, 12, 'W2'], ['W1', 16, 'W1']\n",
    "With the lorry costing £290 * 2 = £580\n",
    "And the 3 trucks costing £251\n",
    "Thus total cost is £580 + £251 = £831"
   ]
  }
 ],
 "metadata": {
  "kernelspec": {
   "display_name": "Python 3 (ipykernel)",
   "language": "python",
   "name": "python3"
  },
  "language_info": {
   "codemirror_mode": {
    "name": "ipython",
    "version": 3
   },
   "file_extension": ".py",
   "mimetype": "text/x-python",
   "name": "python",
   "nbconvert_exporter": "python",
   "pygments_lexer": "ipython3",
   "version": "3.9.13"
  }
 },
 "nbformat": 4,
 "nbformat_minor": 5
}
