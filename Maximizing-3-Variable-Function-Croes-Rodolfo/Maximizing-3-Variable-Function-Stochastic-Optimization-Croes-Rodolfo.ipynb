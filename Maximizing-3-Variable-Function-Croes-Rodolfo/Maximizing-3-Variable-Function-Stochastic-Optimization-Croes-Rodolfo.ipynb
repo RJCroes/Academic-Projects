{
 "cells": [
  {
   "cell_type": "code",
   "execution_count": 1,
   "id": "c6ed7254",
   "metadata": {},
   "outputs": [],
   "source": [
    "# imports\n",
    "import random \n",
    "import numpy \n",
    "import math\n",
    "import pandas as pd\n",
    "import matplotlib.pyplot as plt\n",
    "import time\n",
    "from itertools import permutations\n",
    "import sys, heapq\n",
    "from itertools import chain"
   ]
  },
  {
   "cell_type": "markdown",
   "id": "826db6f5",
   "metadata": {},
   "source": [
    "## Maximizing a 3 variable function\n",
    "Find f(x,y,z) of the equation with constraints 0 <= x,y,z <= 5"
   ]
  },
  {
   "cell_type": "code",
   "execution_count": 2,
   "id": "a6983cdd",
   "metadata": {},
   "outputs": [],
   "source": [
    "# function that is used to determine the fitness value given x y and z\n",
    "# returns fitness value\n",
    "def f(x,y,z):\n",
    "    f = math.exp(math.sin(40*z)) + math.sin(60*math.cos(z)) + math.exp(math.sin(50*x)) + math.sin(60*math.exp(y)) + math.sin(70*math.sin(x)) + math.sin(math.sin(80*y)) - math.sin(10*(x+y)) +(x**2+y**2+z**2)/100\n",
    "    return f\n",
    "# function that takes in amount of steps, lower bound and upper bound\n",
    "# generate random x, y, z in the bounds given and determines the fitness of this\n",
    "# replaces the current fitness value with the new randomly generated one if it is greater\n",
    "# returns the best x, y, z and fitness value after the amount of steps given\n",
    "# or if the best x, y,z and fitness values hasn't changed for a while (this case 5% of total steps taken.)\n",
    "def randomSearch3(steps=10000, lowerxyz=0, upperxyz=5):\n",
    "    # define a variable that caps the amount of iterations if the value does not change\n",
    "    changecap = int(steps * 0.05)\n",
    "    # define a variable that counts the amount of changes done for a new best f\n",
    "    changecounter = 0\n",
    "    # make new random values for x, y and z as a base case\n",
    "    xb = random.uniform(lowerxyz,upperxyz)\n",
    "    yb = random.uniform(lowerxyz,upperxyz)\n",
    "    zb = random.uniform(lowerxyz, upperxyz)\n",
    "    # finds the fitness for the base case\n",
    "    fbest = f(xb,yb, zb)\n",
    "    # loop to make new x,y,z values and to test new fitness value\n",
    "    for i in range(1,steps):\n",
    "        # generate new x,y,z values to be tested\n",
    "        xn = random.uniform(lowerxyz,upperxyz)\n",
    "        yn = random.uniform(lowerxyz,upperxyz)\n",
    "        zn = random.uniform(lowerxyz, upperxyz)\n",
    "        # generate new fitness value from new x,y,z values\n",
    "        fnew = f(xn,yn,zn)\n",
    "        # replace the current x,y,z and fitness values if the new one is greater\n",
    "        if fnew > fbest:\n",
    "            xb = xn\n",
    "            yb = yn\n",
    "            zb = zn\n",
    "            fbest = fnew\n",
    "            # reset the change counter because a change has been made\n",
    "            changecounter = 0\n",
    "        # add 1 to the change counter to account for each iteration\n",
    "        changecounter += 1\n",
    "        # checks if the change counter has passed the cap of iterations without change\n",
    "        if changecounter > changecap:\n",
    "            # early return to save on time in case no changes have been made in a while\n",
    "            return xb, yb, zb, fbest\n",
    "    # return best x,y,z and fitness\n",
    "    return xb, yb, zb, fbest\n",
    "# function that takes in amount of steps, lower bound, upper bound and a set step size\n",
    "# produce base case random variables and get it's fitness value\n",
    "# make new variables by making some random change to the current best variables and get the fitness of the new variables\n",
    "# if the new fitness value is greater than the current one, replace the current variables and fitness value\n",
    "# with the new variables and fitness value generated\n",
    "# returns the best x, y, z and fitness value gotten after the amount of steps given\n",
    "# or if the best x, y,z and fitness values hasn't changed for a while (this case 5% of total steps taken.)\n",
    "def hillClimb3(steps=10000, lowerxyz = 0, upperxyz = 5, step_size=0.1):\n",
    "    # define a variable that caps the amount of iterations if the value does not change\n",
    "    changecap = int(steps * 0.05)\n",
    "    # define a variable that counts the amount of changes done for a new best f\n",
    "    changecounter = 0\n",
    "    # make new random values for x, y and z as a base case\n",
    "    xb = random.uniform(lowerxyz, upperxyz)\n",
    "    yb = random.uniform(lowerxyz, upperxyz)\n",
    "    zb = random.uniform(lowerxyz, upperxyz)\n",
    "    # finds the fitness for the base case\n",
    "    fbest = f(xb,yb,zb)\n",
    "    # loop to make new x,y,z values and to test new fitness value\n",
    "    for i in range(1,steps):\n",
    "        # generate new x, y and z variables by making a random change to the current best fitness values\n",
    "        xn = xb + random.gauss(0,step_size)\n",
    "        yn = yb + random.gauss(0,step_size)\n",
    "        zn = zb + random.gauss(0,step_size)\n",
    "        # check if the newly generated variables are still in the constraint\n",
    "        # if they are not, set them back to the best value gotten so far\n",
    "        if xn > upperxyz or xn < lowerxyz:\n",
    "            xn = xb\n",
    "        if yn > upperxyz or yn < lowerxyz:\n",
    "            yn = yb\n",
    "        if zn > upperxyz or zn < lowerxyz:\n",
    "            zn = zb\n",
    "        # after ensuring constraints are met, generate a new fitness value\n",
    "        fnew = f(xn,yn,zn)\n",
    "        # replace the current x,y,z and fitness values if the new one is greater\n",
    "        if fnew > fbest:\n",
    "            xb = xn\n",
    "            yb = yn\n",
    "            zb = zn\n",
    "            fbest = fnew\n",
    "            # reset the change counter because a change has been made\n",
    "            changecounter = 0\n",
    "        # add 1 to the change counter to account for each iteration\n",
    "        changecounter += 1\n",
    "        # checks if the change counter has passed the cap of iterations without change\n",
    "        if changecounter > changecap:\n",
    "            # early return to save on time in case no changes have been made in a while\n",
    "            return xb, yb, zb, fbest\n",
    "    # return best x,y,z and fitness    \n",
    "    return xb, yb, zb, fbest\n",
    "# ils3 takes in the amount of steps, the lower and upper bounds, a small step size and a larger step size\n",
    "# then after making a optimal variable and fitness, performs a hill climb with small step size\n",
    "# after this hill climb completes, performs a big step size and restarts a hill climb with the small step size\n",
    "# this continues until all of the big steps are performed\n",
    "# returns the optimal x, y, z and fitness value\n",
    "def ils3(steps=1000, lowerxyz=0, upperxyz=5, small_step_size=0.05, big_step_size=0.2):\n",
    "    # Determining the amount of big and small steps to take\n",
    "    # These ratios can be adjusted if needed\n",
    "    small_steps = int(0.9 * steps)\n",
    "    big_steps = int(0.1 * steps)\n",
    "    \n",
    "    # Create a random initial solution to be current overall optimal solution.\n",
    "    xopt = random.uniform(lowerxyz, upperxyz)\n",
    "    yopt = random.uniform(lowerxyz, upperxyz)\n",
    "    zopt = random.uniform(lowerxyz, upperxyz)\n",
    "    # Evaluate the fitness of the initial solution\n",
    "    fopt = f(xopt,yopt,zopt)\n",
    "    \n",
    "    # Set current best solution equal to overall optimal solution\n",
    "    xbest = xopt\n",
    "    ybest = yopt\n",
    "    zbest = zopt\n",
    "    fbest = fopt\n",
    " \n",
    "    # Outer loop for ILS (Determines when to take a large step)\n",
    "    for i in range(1,big_steps):\n",
    "        # Inner loop for Standard Hill Climb (Where the small steps are taken) \n",
    "        for i in range(1,small_steps):\n",
    "            # Generate a new solution\n",
    "            xnew = xbest + random.gauss(0,small_step_size)\n",
    "            ynew = ybest + random.gauss(0,small_step_size)\n",
    "            znew = zbest + random.gauss(0,small_step_size)\n",
    "            # Check if new solutions are still in constraint, if not set them to previous best solution.\n",
    "            if xnew > upperxyz or xnew < lowerxyz:\n",
    "                xnew = xbest\n",
    "            if ynew > upperxyz or ynew < lowerxyz:\n",
    "                ynew = ybest\n",
    "            if znew > upperxyz or znew < lowerxyz:\n",
    "                znew = zbest\n",
    "            # Evaluate the new solution\n",
    "            fnew = f(xnew, ynew, znew)\n",
    "            # Check if new solution is better than best solution, if so update best solution\n",
    "            if fnew > fbest:\n",
    "                xbest = xnew\n",
    "                ybest = ynew\n",
    "                zbest = znew\n",
    "                fbest = fnew\n",
    "        # Check best solution against overall optimal solution, if so update optimal solution\n",
    "        if fbest > fopt:\n",
    "            xopt = xbest\n",
    "            yopt = ybest\n",
    "            zopt = zbest\n",
    "            fopt = fbest\n",
    "        # Carry out a big step after one set of small steps are completed\n",
    "        xbest = xopt + random.gauss(0,big_step_size)\n",
    "        ybest = yopt + random.gauss(0,big_step_size)\n",
    "        zbest = zopt + random.gauss(0,big_step_size)\n",
    "        # Check if new solutions are still in constraint, if not set them to previous best solution\n",
    "        if xbest > upperxyz or xbest < lowerxyz:\n",
    "            xbest = xopt\n",
    "        if ybest > upperxyz or ybest < lowerxyz:\n",
    "            ybest = yopt\n",
    "        if zbest > upperxyz or zbest < lowerxyz:\n",
    "            zbest = zopt\n",
    "        \n",
    "    # Return the best optimal solutions found for x, y, z and fitness value.\n",
    "    return xopt, yopt, zopt, fopt\n",
    "# SimAnneal takes in the amount of steps, the lower and upper bounds, the step size and a scalar\n",
    "# after generating an initial solution, perform a hill climb where some times\n",
    "# the algorithm takes a worse solution in hope to find a better solution further in the hill climb\n",
    "# returns the best x, y, z and fitness value found\n",
    "def simAnneal3(steps=10000, lowerxyz=0, upperxyz=5, step_size=0.1, temp_scalar=10):\n",
    "    # Generate initial solution\n",
    "    xbest = random.uniform(lowerxyz, upperxyz)\n",
    "    ybest = random.uniform(lowerxyz, upperxyz)\n",
    "    zbest = random.uniform(lowerxyz, upperxyz)\n",
    "    # Evaluate the fitness of the solution\n",
    "    fbest = f(xbest, ybest, zbest)\n",
    "    # Performs a hill climb for the number of steps\n",
    "    for i in range(1,steps):\n",
    "        #Tempertaure function that changes with steps,\n",
    "        # This is used to determine wether a less optimal solution gets accepted or not.\n",
    "        T=temp_scalar*(1-i/steps)\n",
    "        # Generate new solution based on previous solution\n",
    "        xnew = xbest + random.gauss(0,step_size)\n",
    "        ynew = ybest + random.gauss(0,step_size)\n",
    "        znew = zbest + random.gauss(0,step_size)\n",
    "        # Check if new solutions are still in constraint, if not set them to previous best solution.\n",
    "        if xnew > upperxyz or xnew < lowerxyz:\n",
    "            xnew = xbest\n",
    "        if ynew > upperxyz or ynew < lowerxyz:\n",
    "            ynew = ybest\n",
    "        if znew > upperxyz or znew < lowerxyz:\n",
    "            znew = zbest\n",
    "        # Evaluate the fitness of the new solution\n",
    "        fnew = f(xnew, ynew, znew)\n",
    "        # If the new solution is better than the current best, replace the current best with the better solution\n",
    "        if fnew > fbest:\n",
    "            xbest = xnew\n",
    "            ybest = ynew\n",
    "            zbest = znew\n",
    "            fbest = fnew\n",
    "        # If a random number generated is less than the temperature result, accept the worst solution\n",
    "        elif random.random() < math.exp((fnew-fbest)/T):\n",
    "            xbest = xnew\n",
    "            ybest = ynew\n",
    "            zbest = znew\n",
    "            fbest = fnew\n",
    " \n",
    "    # return the best x, y, z, and fitness value found.\n",
    "    return xbest, ybest, zbest, fbest\n",
    "# genAlg3 takes in the amount of steps, lower and upper bounds, the probability of crossover happening,\n",
    "# probability of a mutation happening, and the mutation step size\n",
    "# create an initial population of solutions, from these make children by crossing over 2 values of the initial population\n",
    "# or make children by taking one parent and mutate it a bit and keep this new child\n",
    "# do this for all population values and evaluate all of the new population created\n",
    "# keep the best of the children and parents\n",
    "# repeat this process for many generations\n",
    "# return the best x, y, z and fitness value found\n",
    "def genAlg3(steps=1000, lowerxyz=0, upperxyz=5, crossover_prob=0.5, mutation_probability = 0.2, mutation_size = 0.1):\n",
    "    # defines population size and generations based on steps\n",
    "    population_size=int(0.9 * steps)\n",
    "    n_generations=int(0.1 * steps)\n",
    "    # Creating the initial population with each parent having 3 variables\n",
    "    pop = numpy.random.uniform(low=lowerxyz, high=upperxyz, size=(population_size, 3))\n",
    " \n",
    "    # Run the algorithm for the amount of generations\n",
    "    for gen in range(n_generations):\n",
    "        # Evaluate fitness (function) for each current solution in population\n",
    "        fitness_values = numpy.array([f(*ind) for ind in pop])\n",
    " \n",
    "        # Gives current best solution\n",
    "        best_ind = pop[numpy.argmax(fitness_values)]\n",
    "     \n",
    "        # Make space for all the children\n",
    "        all_children = numpy.zeros((population_size, 3))\n",
    "        # Run Crossover and Mutation for population size\n",
    "        for i in range(population_size):\n",
    "            # Randomly Select parents\n",
    "            parent1, parent2 = numpy.random.choice(pop.shape[0], size=2, replace=False)\n",
    "            # Initialize an empty child\n",
    "            child = numpy.zeros(3)\n",
    "         \n",
    "            # Crossover block\n",
    "            for j in range(2):\n",
    "                # Apply crossover if probability is greater than random number\n",
    "                if random.random() <= crossover_prob:\n",
    "                    # Crossover in this case is average of both parents\n",
    "                    child[j] = 0.5 * (pop[parent1, j] + pop[parent2, j])\n",
    "                else:\n",
    "                    # Set child to a parent\n",
    "                    child[j] = pop[parent1, j]\n",
    "       \n",
    "            # Mutation block\n",
    "            for j in range(2):\n",
    "                # Apply a Mutation if probability is greater than random number\n",
    "                if random.random() <= mutation_probability:\n",
    "                    # Mutation takes the child and makes a small change to them\n",
    "                    child[j] = child[j] + random.gauss(0, mutation_size)\n",
    "                    # Account for bounds in case\n",
    "                    child[j] = numpy.clip(child[j], lowerxyz, upperxyz)\n",
    "                # Set the created child in the list of all children\n",
    "                all_children[i] = child\n",
    " \n",
    "        # Evaluate fitness values for each current child in population\n",
    "        child_fitness_values = numpy.array([f(*ind) for ind in all_children])\n",
    " \n",
    "        # Combines population of parents and children, and takes the best ones\n",
    "        combined_pop = numpy.vstack((pop, all_children))\n",
    "        combined_fitness_values = numpy.concatenate((fitness_values, child_fitness_values))\n",
    "        sorted_indices = numpy.argsort(combined_fitness_values)[::-1][:population_size]\n",
    "        # Takes the best half from the population and sets it to the new population\n",
    "        pop = combined_pop[sorted_indices]\n",
    "        # Set the return values to the best x, y, z and fitness value\n",
    "        answer = best_ind[0], best_ind[1], best_ind[2], fitness_values.max()\n",
    "        # return the best child/parent from population\n",
    "        return answer"
   ]
  },
  {
   "cell_type": "code",
   "execution_count": 3,
   "id": "59453c15",
   "metadata": {},
   "outputs": [
    {
     "name": "stdout",
     "output_type": "stream",
     "text": [
      "Random search gives us: \n"
     ]
    },
    {
     "data": {
      "image/png": "[encoded data removed]",
      "text/plain": [
       "<Figure size 640x480 with 1 Axes>"
      ]
     },
     "metadata": {},
     "output_type": "display_data"
    }
   ],
   "source": [
    "# perform the random search algorithm 10000 times with base case of 10000 steps\n",
    "# at worst case this algorithm will run for 10000 * 10000 = 100000000 iterations\n",
    "# put the results of each algortihm run in a list\n",
    "iterations = 10000\n",
    "# make a list to keep the best results\n",
    "bestlist = []\n",
    "# run the algorithm iteration amount of times\n",
    "for i in range(iterations):\n",
    "    xtemp, ytemp, ztemp, ftemp = randomSearch3()\n",
    "    bestlist.append((xtemp,ytemp,ztemp, ftemp))\n",
    "# create a list to store the best values in order\n",
    "randommaxlist = []\n",
    "# get the best tuple and add it to the max list, then remove it from the best list\n",
    "for i in range(iterations):\n",
    "    maxpair = max(bestlist, key=lambda item: item[-1])\n",
    "    randommaxlist.append(maxpair)\n",
    "    bestlist.remove(maxpair)\n",
    "# plot the list of walks and see how consistent it is\n",
    "flist = []\n",
    "print(\"Random search gives us: \")\n",
    "for i in randommaxlist:\n",
    "    flist.append(i[-1])\n",
    "plt.hist(flist)\n",
    "plt.show()"
   ]
  },
  {
   "cell_type": "code",
   "execution_count": 4,
   "id": "ed38d000",
   "metadata": {},
   "outputs": [
    {
     "name": "stdout",
     "output_type": "stream",
     "text": [
      "[(3.676806095717266, 3.71301968620773, 4.747251709345464, 10.43956114182392), (4.425234291153841, 4.261562888678011, 2.0861527790551175, 10.350665532057418), (4.047080777093737, 4.022613053538756, 4.747336669980955, 10.322844214157039), (4.42624007310671, 4.183382623174744, 2.0897750633056056, 10.301096664817516), (2.543567668219078, 3.5495246999309615, 2.709815610472797, 10.300391694436382), (4.4374990975824105, 4.805916588189627, 1.7628727395199335, 10.299574032776691), (4.057243134712671, 3.3241876325368214, 4.741318337884545, 10.273403194049486), (3.2965351997417223, 2.8450406765120735, 1.758892857442822, 10.270170038004752), (3.296288498399912, 2.845140776639342, 2.080356364782025, 10.262047027047325), (4.436831302561633, 3.5643307346225854, 4.746610186821984, 10.248911884847756)]\n"
     ]
    }
   ],
   "source": [
    "# print the top 10 from the random search\n",
    "print(randommaxlist[0:10])"
   ]
  },
  {
   "cell_type": "code",
   "execution_count": 5,
   "id": "f3167699",
   "metadata": {},
   "outputs": [
    {
     "name": "stdout",
     "output_type": "stream",
     "text": [
      "Hill Climb gives us: \n"
     ]
    },
    {
     "data": {
      "image/png": "[encoded data removed]",
      "text/plain": [
       "<Figure size 640x480 with 1 Axes>"
      ]
     },
     "metadata": {},
     "output_type": "display_data"
    }
   ],
   "source": [
    "# perform the hill climb algorithm 10000 times with base case of 10000 steps\n",
    "# at worst case this algorithm will run for 10000 * 10000 = 100000000 iterations\n",
    "# put the results of each run in a list\n",
    "iterations = 10000\n",
    "bestlist = []\n",
    "for i in range(iterations):\n",
    "    xtemp, ytemp, ztemp, ftemp = hillClimb3()\n",
    "    bestlist.append((xtemp,ytemp,ztemp, ftemp))\n",
    "# sort the list of results \n",
    "hillmaxlist = []\n",
    "for i in range(iterations):\n",
    "    maxpair = max(bestlist, key=lambda item: item[-1])\n",
    "    hillmaxlist.append(maxpair)\n",
    "    bestlist.remove(maxpair)\n",
    "# plot the list of runs and see how consistent it is\n",
    "flist = []\n",
    "print(\"Hill Climb gives us: \")\n",
    "for i in hillmaxlist:\n",
    "    flist.append(i[-1])\n",
    "plt.hist(flist)\n",
    "plt.show()"
   ]
  },
  {
   "cell_type": "code",
   "execution_count": 6,
   "id": "50dd1d44",
   "metadata": {},
   "outputs": [
    {
     "name": "stdout",
     "output_type": "stream",
     "text": [
      "[(3.6772267273422643, 4.96626754668021, 4.744465258887172, 10.61514344608478), (4.428487950899923, 4.811080879391829, 2.086087056540178, 10.55150421823152), (4.936620950448777, 4.969924646318895, 4.7462951808828935, 10.512586783122156), (3.6804911205635147, 4.96262850181891, 0.9863193471145454, 10.472290548803137), (4.428535077204384, 4.807633249193905, 4.738867868540301, 10.467491053236094), (1.1623340233104678, 4.965566225673503, 2.716418902895278, 10.433866160934262), (4.427599207099786, 4.188065294507253, 2.0826703561704814, 10.416515068811623), (3.297976328909462, 4.099978334888765, 0.9863798531079794, 10.410075016672998), (1.1662911854083209, 4.966306044695445, 2.7083523562458214, 10.394497784222331), (4.9307918930352805, 4.969904355311478, 2.0838059590207583, 10.390901959405632)]\n"
     ]
    }
   ],
   "source": [
    "# print the top 10 from the hill climb algorithm\n",
    "print(hillmaxlist[0:10])"
   ]
  },
  {
   "cell_type": "code",
   "execution_count": 7,
   "id": "f869eb30",
   "metadata": {},
   "outputs": [
    {
     "name": "stdout",
     "output_type": "stream",
     "text": [
      "ILS gives us: \n"
     ]
    },
    {
     "data": {
      "image/png": "[encoded data removed]",
      "text/plain": [
       "<Figure size 640x480 with 1 Axes>"
      ]
     },
     "metadata": {},
     "output_type": "display_data"
    }
   ],
   "source": [
    "# perform the ILS algorithm 1000 times with base case of 1000 steps\n",
    "# worst case this algorithm will run 1000 * 900 * 100 = 90000000 iterations\n",
    "# put the results of each run in a list\n",
    "iterations = 1000\n",
    "bestlist = []\n",
    "for i in range(iterations):\n",
    "    xtemp, ytemp, ztemp, ftemp = ils3()\n",
    "    bestlist.append((xtemp,ytemp,ztemp, ftemp))\n",
    "# sort the list of results \n",
    "ilsmaxlist = []\n",
    "for i in range(iterations):\n",
    "    maxpair = max(bestlist, key=lambda item: item[-1])\n",
    "    ilsmaxlist.append(maxpair)\n",
    "    bestlist.remove(maxpair)\n",
    "# plot the list of runs and see how consistent it is\n",
    "flist = []\n",
    "print(\"ILS gives us: \")\n",
    "for i in ilsmaxlist:\n",
    "    flist.append(i[-1])\n",
    "plt.hist(flist)\n",
    "plt.show()"
   ]
  },
  {
   "cell_type": "code",
   "execution_count": 8,
   "id": "8366a4f8",
   "metadata": {},
   "outputs": [
    {
     "name": "stdout",
     "output_type": "stream",
     "text": [
      "[(4.434123266625133, 4.812771509687727, 4.750380554791666, 10.562733208329751), (4.42954396651946, 3.5523816608437744, 4.74689052318301, 10.551939562473946), (3.6790661314310023, 4.335496297835324, 4.744693964703885, 10.52031706883435), (3.676861744283299, 4.966332365737343, 4.74720452616297, 10.518419062152736), (3.2992328797432564, 4.7367952066163825, 4.750578509460287, 10.505460327193015), (4.4330941711323435, 4.8127570471277625, 0.5142519994662821, 10.489691380127788), (4.428041012068114, 4.8833886224266045, 4.741553227019406, 10.485738581191784), (4.049575927130483, 3.3204999654826066, 4.7416541030599975, 10.478044119159051), (4.4292063305845355, 4.176924066850035, 4.749480771699519, 10.47711323283501), (1.1612763902255776, 4.968454635218825, 0.9855721525432315, 10.473548573190131)]\n"
     ]
    }
   ],
   "source": [
    "# print the top 10 from the ILS algorithm\n",
    "print(ilsmaxlist[0:10])"
   ]
  },
  {
   "cell_type": "code",
   "execution_count": 9,
   "id": "7953c5e3",
   "metadata": {},
   "outputs": [
    {
     "name": "stdout",
     "output_type": "stream",
     "text": [
      "Simulated Annealing gives us: \n"
     ]
    },
    {
     "data": {
      "image/png": "[encoded data removed]",
      "text/plain": [
       "<Figure size 640x480 with 1 Axes>"
      ]
     },
     "metadata": {},
     "output_type": "display_data"
    }
   ],
   "source": [
    "# perform the simulated annealing algorithm 10000 times with base case of 10000 steps\n",
    "# at worst case this algorithm will run for 10000 * 10000 = 100000000 iterations\n",
    "# put the results of each run in a list\n",
    "iterations = 10000\n",
    "bestlist = []\n",
    "for i in range(iterations):\n",
    "    xtemp, ytemp, ztemp, ftemp = simAnneal3()\n",
    "    bestlist.append((xtemp,ytemp,ztemp, ftemp))\n",
    "# sort the list of results \n",
    "simmaxlist = []\n",
    "for i in range(iterations):\n",
    "    maxpair = max(bestlist, key=lambda item: item[-1])\n",
    "    simmaxlist.append(maxpair)\n",
    "    bestlist.remove(maxpair)\n",
    "# plot the list of runs and see how consistent it is\n",
    "flist = []\n",
    "print(\"Simulated Annealing gives us: \")\n",
    "for i in simmaxlist:\n",
    "    flist.append(i[-1])\n",
    "plt.hist(flist)\n",
    "plt.show()"
   ]
  },
  {
   "cell_type": "code",
   "execution_count": 10,
   "id": "62d956c1",
   "metadata": {},
   "outputs": [
    {
     "name": "stdout",
     "output_type": "stream",
     "text": [
      "[(2.547231572234336, 4.807652127626656, 2.0850027748865934, 10.454671894694181), (1.16280257463794, 4.962678115207239, 4.745124720857035, 10.439117171474354), (4.427384729583215, 4.8865625201036575, 4.432458345427098, 10.417304277855816), (3.8003063440063434, 4.887343773502625, 4.740336226625365, 10.402756576379156), (1.1638770660364781, 4.966231524697695, 0.9833039249884791, 10.398349016593617), (4.057493628739393, 3.3166734271322706, 4.745152962222644, 10.380482773142086), (4.422742761912666, 4.888172046665589, 4.74551086557389, 10.380040634340814), (4.930341177485682, 4.964787738116581, 4.750499735157338, 10.375801035692934), (4.424059242593984, 3.552309218474671, 4.746816922976178, 10.365564520119406), (3.7973292529399716, 4.810147667777078, 4.74043788038516, 10.36226545959247)]\n"
     ]
    }
   ],
   "source": [
    "# print the top 10 from the Sim Anneal algorithm\n",
    "print(simmaxlist[0:10])"
   ]
  },
  {
   "cell_type": "code",
   "execution_count": 12,
   "id": "18d6457a",
   "metadata": {},
   "outputs": [
    {
     "name": "stdout",
     "output_type": "stream",
     "text": [
      "Gen Alg gives us: \n"
     ]
    },
    {
     "data": {
      "image/png": "[encoded data removed]",
      "text/plain": [
       "<Figure size 640x480 with 1 Axes>"
      ]
     },
     "metadata": {},
     "output_type": "display_data"
    }
   ],
   "source": [
    "# perform the genetic algorithm 10000 times with base case of 10000 steps\n",
    "# worst case this algorithm will run 1000 * 900 * 100 = 90000000 iterations\n",
    "# put the results of each run in a list\n",
    "iterations = 10000\n",
    "bestlist = []\n",
    "for i in range(iterations):\n",
    "    xtemp, ytemp, ztemp, ftemp = genAlg3()\n",
    "    bestlist.append((xtemp,ytemp,ztemp, ftemp))\n",
    "# sort the list of results \n",
    "genmaxlist = []\n",
    "for i in range(iterations):\n",
    "    maxpair = max(bestlist, key=lambda item: item[-1])\n",
    "    genmaxlist.append(maxpair)\n",
    "    bestlist.remove(maxpair)\n",
    "# plot the list of runs and see how consistent it is\n",
    "flist = []\n",
    "print(\"Gen Alg gives us: \")\n",
    "for i in genmaxlist:\n",
    "    flist.append(i[-1])\n",
    "plt.hist(flist)\n",
    "plt.show()"
   ]
  },
  {
   "cell_type": "code",
   "execution_count": 13,
   "id": "bdc52354",
   "metadata": {},
   "outputs": [
    {
     "name": "stdout",
     "output_type": "stream",
     "text": [
      "[(3.678411675739819, 4.339695910138388, 1.7665828774583932, 10.311553395644548), (4.434346137476519, 4.191198131752146, 2.7157508815888476, 10.310719476133508), (3.6775359266573493, 4.336835525977538, 4.7540264289589, 10.246860107081304), (4.422159143016798, 4.811958546068511, 4.429560228617108, 10.233361879846607), (3.795481917503793, 3.0021342174675363, 2.71403945921832, 10.219577985922523), (3.9239367469150426, 4.730259062432913, 4.75174221493539, 10.218886762362837), (3.8017774321649855, 4.188144122102468, 0.5108087102925046, 10.204817601761244), (3.2987938046062264, 3.4745899974208965, 0.9761346049139435, 10.19987352923698), (3.7970929171152887, 4.8912041311127625, 0.9847488622639322, 10.195910491514505), (3.2975186160618852, 2.223886274840574, 1.7652989659142064, 10.191784436427366)]\n"
     ]
    }
   ],
   "source": [
    "# print the top 10 from the genetic algorithm\n",
    "print(genmaxlist[0:10])"
   ]
  },
  {
   "cell_type": "code",
   "execution_count": 18,
   "id": "3db199f7",
   "metadata": {},
   "outputs": [
    {
     "name": "stdout",
     "output_type": "stream",
     "text": [
      "[(3.6772267273422643, 4.96626754668021, 4.744465258887172, 10.61514344608478), (4.434123266625133, 4.812771509687727, 4.750380554791666, 10.562733208329751), (4.42954396651946, 3.5523816608437744, 4.74689052318301, 10.551939562473946), (4.428487950899923, 4.811080879391829, 2.086087056540178, 10.55150421823152), (3.6790661314310023, 4.335496297835324, 4.744693964703885, 10.52031706883435), (3.676861744283299, 4.966332365737343, 4.74720452616297, 10.518419062152736), (4.936620950448777, 4.969924646318895, 4.7462951808828935, 10.512586783122156), (3.2992328797432564, 4.7367952066163825, 4.750578509460287, 10.505460327193015), (4.4330941711323435, 4.8127570471277625, 0.5142519994662821, 10.489691380127788), (4.428041012068114, 4.8833886224266045, 4.741553227019406, 10.485738581191784), (4.049575927130483, 3.3204999654826066, 4.7416541030599975, 10.478044119159051), (4.4292063305845355, 4.176924066850035, 4.749480771699519, 10.47711323283501), (1.1612763902255776, 4.968454635218825, 0.9855721525432315, 10.473548573190131), (3.6804911205635147, 4.96262850181891, 0.9863193471145454, 10.472290548803137), (3.676333941427791, 4.964787042586358, 0.9838291538391314, 10.472007975281006), (4.42551336806048, 4.811051077056155, 0.9863889691898358, 10.469907752486687), (4.428535077204384, 4.807633249193905, 4.738867868540301, 10.467491053236094), (2.1636063602453817, 4.5789959258916, 4.748741053507988, 10.465233343142474), (4.42933183934875, 4.884955642682267, 2.0865711378724896, 10.461257446005334), (4.050231470639512, 4.570335649794319, 2.707279174236755, 10.461062673825397), (4.429660075612148, 4.8161340015237615, 0.9799968946136473, 10.454969590714438), (2.547231572234336, 4.807652127626656, 2.0850027748865934, 10.454671894694181), (4.052770357403735, 3.320436618103457, 2.711941049951203, 10.453736943975592), (4.0481179939635865, 3.3241126233028386, 4.746751820270082, 10.450608790721974), (4.052720530902228, 3.3166454830368974, 0.9831621887521701, 10.44979929657213), (3.6767331000917562, 4.3382770922630485, 0.9873498031416067, 10.442532166231649), (1.163864373394241, 4.967046772485936, 2.7112431030405477, 10.442526481942398), (3.676806095717266, 3.71301968620773, 4.747251709345464, 10.43956114182392), (4.429491283831761, 4.88336464503175, 2.71017924369891, 10.43920345074503), (1.16280257463794, 4.962678115207239, 4.745124720857035, 10.439117171474354)]\n"
     ]
    }
   ],
   "source": [
    "# get all values gathered so far and put them in a list\n",
    "totallist1 = [item for sublist in zip(randommaxlist, hillmaxlist, ilsmaxlist, simmaxlist, genmaxlist) for item in sublist]\n",
    "# sort the list\n",
    "totallist1.sort(key=lambda item: item[-1], reverse = True)\n",
    "# set the current total list to the first list (used to not lose data)\n",
    "totallist = totallist1\n",
    "# print top 30 from the best gathered results from the first generations of algorithms\n",
    "print(totallist1[0:30])"
   ]
  },
  {
   "cell_type": "code",
   "execution_count": 19,
   "id": "7477072c",
   "metadata": {
    "scrolled": true
   },
   "outputs": [
    {
     "name": "stdout",
     "output_type": "stream",
     "text": [
      "50\n",
      "[(3.6772267273422643, 4.96626754668021, 4.744465258887172, 10.61514344608478), (4.434123266625133, 4.812771509687727, 4.750380554791666, 10.562733208329751), (4.42954396651946, 3.5523816608437744, 4.74689052318301, 10.551939562473946), (4.428487950899923, 4.811080879391829, 2.086087056540178, 10.55150421823152), (3.6790661314310023, 4.335496297835324, 4.744693964703885, 10.52031706883435), (3.676861744283299, 4.966332365737343, 4.74720452616297, 10.518419062152736), (4.936620950448777, 4.969924646318895, 4.7462951808828935, 10.512586783122156), (3.2992328797432564, 4.7367952066163825, 4.750578509460287, 10.505460327193015), (4.4330941711323435, 4.8127570471277625, 0.5142519994662821, 10.489691380127788), (4.428041012068114, 4.8833886224266045, 4.741553227019406, 10.485738581191784), (4.049575927130483, 3.3204999654826066, 4.7416541030599975, 10.478044119159051), (4.4292063305845355, 4.176924066850035, 4.749480771699519, 10.47711323283501), (1.1612763902255776, 4.968454635218825, 0.9855721525432315, 10.473548573190131), (3.6804911205635147, 4.96262850181891, 0.9863193471145454, 10.472290548803137), (3.676333941427791, 4.964787042586358, 0.9838291538391314, 10.472007975281006), (4.42551336806048, 4.811051077056155, 0.9863889691898358, 10.469907752486687), (4.428535077204384, 4.807633249193905, 4.738867868540301, 10.467491053236094), (2.1636063602453817, 4.5789959258916, 4.748741053507988, 10.465233343142474), (4.42933183934875, 4.884955642682267, 2.0865711378724896, 10.461257446005334), (4.050231470639512, 4.570335649794319, 2.707279174236755, 10.461062673825397), (4.429660075612148, 4.8161340015237615, 0.9799968946136473, 10.454969590714438), (2.547231572234336, 4.807652127626656, 2.0850027748865934, 10.454671894694181), (4.052770357403735, 3.320436618103457, 2.711941049951203, 10.453736943975592), (4.0481179939635865, 3.3241126233028386, 4.746751820270082, 10.450608790721974), (4.052720530902228, 3.3166454830368974, 0.9831621887521701, 10.44979929657213), (3.6767331000917562, 4.3382770922630485, 0.9873498031416067, 10.442532166231649), (1.163864373394241, 4.967046772485936, 2.7112431030405477, 10.442526481942398), (3.676806095717266, 3.71301968620773, 4.747251709345464, 10.43956114182392), (4.429491283831761, 4.88336464503175, 2.71017924369891, 10.43920345074503), (1.16280257463794, 4.962678115207239, 4.745124720857035, 10.439117171474354), (4.048189950724615, 2.6868321554379526, 4.743391472430755, 10.435159622126754), (4.426066882160339, 4.888126099251974, 2.083923616173806, 10.434779348311672), (1.1623340233104678, 4.965566225673503, 2.716418902895278, 10.433866160934262), (4.931156642671334, 4.964800718707205, 4.7413369191465655, 10.432597738329461), (3.298960535374941, 4.7395488200739715, 2.711186132147162, 10.423999077310496), (4.427384729583215, 4.8865625201036575, 4.432458345427098, 10.417304277855816), (4.427599207099786, 4.188065294507253, 2.0826703561704814, 10.416515068811623), (4.932514653827982, 4.967716171299469, 2.087316235546078, 10.410848373008811), (1.1644075437837347, 4.967012828794656, 0.5139418912723328, 10.41010844259918), (3.297976328909462, 4.099978334888765, 0.9863798531079794, 10.410075016672998), (4.048158084588998, 4.656509762923051, 4.744063258215474, 10.405257927647542), (4.431900100516699, 2.9207856121674327, 4.743712160465039, 10.403686890205751), (3.8003063440063434, 4.887343773502625, 4.740336226625365, 10.402756576379156), (4.43077906373572, 4.810286325243278, 0.9881735529107502, 10.399185419394893), (1.1638770660364781, 4.966231524697695, 0.9833039249884791, 10.398349016593617), (4.429589943451838, 4.8881595357480805, 1.7638930973890976, 10.397475675652892), (4.0471073779886275, 4.575725526692207, 0.5155287938328396, 10.397173785566778), (4.0489935058017155, 4.577893616000221, 4.7375673019437095, 10.396345364033792), (1.1662911854083209, 4.966306044695445, 2.7083523562458214, 10.394497784222331), (3.29739838033454, 4.728522089190351, 1.7593211348096878, 10.394465264045976)]\n"
     ]
    }
   ],
   "source": [
    "# take the top 1% of all results and keep them for next generation of testing\n",
    "accepted = int(0.01 * len(totallist))\n",
    "# show how many were kept\n",
    "print(accepted)\n",
    "# set a new list to determine the bounds for next generation\n",
    "newtotal = totallist[0:accepted]\n",
    "# print the kept list\n",
    "print(newtotal)"
   ]
  },
  {
   "cell_type": "markdown",
   "id": "73a1a162",
   "metadata": {},
   "source": [
    "Best result so far from all 5 tested algorithms:\n",
    "(3.6772267273422643, 4.96626754668021, 4.744465258887172, 10.61514344608478)\n",
    "Acquired from Hill Climb Algorithm"
   ]
  },
  {
   "cell_type": "code",
   "execution_count": 20,
   "id": "30d3d8cb",
   "metadata": {},
   "outputs": [
    {
     "name": "stdout",
     "output_type": "stream",
     "text": [
      "Bounds for x: (1.1612763902255776, 4.936620950448777) \n",
      " Bounds for y: (2.6868321554379526, 4.969924646318895) \n",
      " Bounds for z: (0.5139418912723328, 4.750578509460287) \n",
      "\n"
     ]
    }
   ],
   "source": [
    "# find lowest and highest values of x, y and z an make those into the bounds\n",
    "zip(*newtotal)\n",
    "# find minimum and maximums for each values in the tuples in the list\n",
    "mins = map(min, zip(*newtotal))\n",
    "maxs = map(max, zip(*newtotal))\n",
    "# save all the bounds as a list\n",
    "allbounds = list(mins), list(maxs)\n",
    "# determine each variables bound by extracting them from the list above\n",
    "xbound = allbounds[0][0], allbounds[1][0]\n",
    "ybound = allbounds[0][1], allbounds[1][1]\n",
    "zbound = allbounds[0][2], allbounds[1][2]\n",
    "# display the new bounds for next generation\n",
    "print(f\"Bounds for x: {xbound} \\n Bounds for y: {ybound} \\n Bounds for z: {zbound} \\n\")\n"
   ]
  },
  {
   "cell_type": "code",
   "execution_count": 57,
   "id": "49482375",
   "metadata": {},
   "outputs": [],
   "source": [
    "# fitgenAlg3 takes the amount of steps, the bounds for each variables, crossover probability\n",
    "# mutation probability and mutation size\n",
    "# runs the genetic algorithm using the fitted bounds passed in\n",
    "# the variables are treated individually from here on out\n",
    "# returns the best x, y, z and fitness value\n",
    "def fitgenAlg3(steps=1000, lowerx=0, upperx=5, lowery=0, uppery=5, lowerz=0, upperz=5, crossover_prob=0.5, mutation_probability = 0.2, mutation_size = 0.1):\n",
    "    population_size=int(0.9 * steps)\n",
    "    n_generations=int(0.1 * steps)\n",
    "    # Creating the initial population\n",
    "    xpop = numpy.random.uniform(low=lowerx, high=upperx, size=(population_size, 1))\n",
    "    ypop = numpy.random.uniform(low=lowery, high=uppery, size=(population_size, 1))\n",
    "    zpop = numpy.random.uniform(low=lowerz, high=upperz, size=(population_size, 1))\n",
    "    \n",
    "    pop = numpy.zeros(shape=(population_size,3))\n",
    "    for i in range(population_size):\n",
    "        pop[i] = (xpop.item(i), ypop.item(i), zpop.item(i))\n",
    "    # Run the algorithm\n",
    "    for gen in range(n_generations):\n",
    "        # Evaluate fitness (function) for each current solution in population\n",
    "        fitness_values = numpy.array([f(*ind) for ind in pop])\n",
    " \n",
    "        # Gives current best solution and prints it\n",
    "        best_ind = pop[numpy.argmax(fitness_values)]\n",
    "     \n",
    "        # Apply crossover and mutation to produce the child\n",
    "        all_children = numpy.zeros((population_size, 3))\n",
    "        for i in range(population_size):\n",
    "            # (Randomly) Select parents\n",
    "            parent1, parent2 = numpy.random.choice(pop.shape[0], size=2, replace=False)\n",
    "            child = numpy.zeros(3)\n",
    "         \n",
    "            # Crossover - child is average of two parents, e.g. (x1+x2)/2\n",
    "            for j in range(2):\n",
    "                if random.random() <= crossover_prob:\n",
    "                    child[j] = 0.5 * (pop[parent1, j] + pop[parent2, j])\n",
    "                else:\n",
    "                    child[j] = pop[parent1, j]\n",
    "       \n",
    "            # Mutation (equivalent to a hill-climb step, fixing any movement outside bounds)\n",
    "            for j in range(2):\n",
    "                if random.random() <= mutation_probability:\n",
    "                    child[j] = child[j] + random.gauss(0, mutation_size)\n",
    "                    if j == 0:\n",
    "                        child[j] = numpy.clip(child[j], lowerx, upperx)\n",
    "                    elif j == 1:\n",
    "                        child[j] = numpy.clip(child[j], lowery, uppery)\n",
    "                    else:\n",
    "                        child[j] = numpy.clip(child[j], lowerz, upperz)\n",
    "                all_children[i] = child\n",
    " \n",
    "        # Evaluate fitness (function) for each current solution in population\n",
    "        child_fitness_values = numpy.array([f(*ind) for ind in all_children])\n",
    " \n",
    "        # Combines population of parents and children, and takes the best ones\n",
    "        combined_pop = numpy.vstack((pop, all_children))\n",
    "        combined_fitness_values = numpy.concatenate((fitness_values, child_fitness_values))\n",
    "        sorted_indices = numpy.argsort(combined_fitness_values)[::-1][:population_size]\n",
    "        pop = combined_pop[sorted_indices]\n",
    "        answer = best_ind[0], best_ind[1], best_ind[2], fitness_values.max()\n",
    "        return answer\n",
    "# fitils3 takes in the amount of steps, the lower and upper bounds for each variable, a small step size and a larger step size\n",
    "# then does an iterative local search on the fitted range for the given amount of steps\n",
    "# the variables are treated individually from here on out\n",
    "# returns the best x, y, z and fitness value\n",
    "def fitils3(steps=1000, lowerx=0, upperx=5, lowery=0, uppery=5, lowerz=0, upperz=5, small_step_size=0.005, big_step_size=0.02):\n",
    "    # Determining the amount of big and small steps to take\n",
    "    small_steps = int(0.9 * steps)\n",
    "    big_steps = int(0.1 * steps)\n",
    "    \n",
    "    # Create a random initial solution to be current overall optimal solution.\n",
    "    xopt = random.uniform(lowerx, upperx)\n",
    "    yopt = random.uniform(lowery, uppery)\n",
    "    zopt = random.uniform(lowerz, upperz)\n",
    "    # Evaluate the initial solution\n",
    "    fopt = f(xopt,yopt,zopt)\n",
    "    \n",
    "    # Set current best solution equal to overall optimal solution\n",
    "    xbest = xopt\n",
    "    ybest = yopt\n",
    "    zbest = zopt\n",
    "    fbest = fopt\n",
    " \n",
    "    # Outer loop for ILS\n",
    "    for i in range(1,big_steps):\n",
    "     \n",
    "        # Inner loop for Standard Hill Climb  \n",
    "        for i in range(1,small_steps):\n",
    "            # Generate a new solution\n",
    "            xnew = xbest + random.gauss(0,small_step_size)\n",
    "            ynew = ybest + random.gauss(0,small_step_size)\n",
    "            znew = zbest + random.gauss(0,small_step_size)\n",
    "            # Check if new solutions are still in constraint, if not set them to previous best solution.\n",
    "            if xnew > upperx or xnew < lowerx:\n",
    "                xnew = xbest\n",
    "            if ynew > uppery or ynew < lowery:\n",
    "                ynew = ybest\n",
    "            if znew > upperz or znew < lowerz:\n",
    "                znew = zbest\n",
    "            # Evaluate the new solution\n",
    "            fnew = f(xnew, ynew, znew)\n",
    "            # Check if new solution is better than best solution, if so update best solution\n",
    "            if fnew > fbest:\n",
    "                xbest = xnew\n",
    "                ybest = ynew\n",
    "                zbest = znew\n",
    "                fbest = fnew\n",
    "        # Check best solution against overall optimal solution, if so update optimal solution\n",
    "        if fbest > fopt:\n",
    "            xopt = xbest\n",
    "            yopt = ybest\n",
    "            zopt = zbest\n",
    "            fopt = fbest\n",
    "        # Carry out a big step\n",
    "        xbest = xopt + random.gauss(0,big_step_size)\n",
    "        ybest = yopt + random.gauss(0,big_step_size)\n",
    "        zbest = zopt + random.gauss(0,big_step_size)\n",
    "        # Check if new solutions are still in constraint, if not set them to previous best solution\n",
    "        if xbest > upperx or xbest < lowerx:\n",
    "            xbest = xopt\n",
    "        if ybest > uppery or ybest < lowery:\n",
    "            ybest = yopt\n",
    "        if zbest > upperz or zbest < lowerz:\n",
    "            zbest = zopt\n",
    "        \n",
    "    # Return the best optimal solutions found.\n",
    "    return xopt, yopt, zopt, fopt\n",
    "# fitsimAnneal takes in the amount of steps, the lower and upper bounds for each variable, the step size and a scalar\n",
    "# Performs a simulated annealing algorithm on the fitted range to find the best solution\n",
    "# the variables are treated individually from here on out\n",
    "# returns the best x, y, z and fitness value found\n",
    "def fitsimAnneal3(steps=10000, lowerx=0, upperx=5,lowery=0, uppery=5,lowerz=0, upperz=5, step_size=0.05, temp_scalar=10):\n",
    "    # Create initial solution\n",
    "    xbest = random.uniform(lowerx, upperx)\n",
    "    ybest = random.uniform(lowery, uppery)\n",
    "    zbest = random.uniform(lowerz, upperz)\n",
    "    # Evaluate initial solution\n",
    "    fbest = f(xbest, ybest, zbest)\n",
    "    # Repeat this process for the amount of steps\n",
    "    for i in range(1,steps):\n",
    "        # Calculate the temperature using the scalar\n",
    "        T=temp_scalar*(1-i/steps)\n",
    "        # Generate new solution\n",
    "        xnew = xbest + random.gauss(0,step_size)\n",
    "        ynew = ybest + random.gauss(0,step_size)\n",
    "        znew = zbest + random.gauss(0,step_size)\n",
    "        # Check if new solutions are still in constraint, if not set them to previous best solution.\n",
    "        if xnew > upperx or xnew < lowerx:\n",
    "            xnew = xbest\n",
    "        if ynew > uppery or ynew < lowery:\n",
    "            ynew = ybest\n",
    "        if znew > upperz or znew < lowerz:\n",
    "            znew = zbest\n",
    "        # Evaluate new solution\n",
    "        fnew = f(xnew, ynew, znew)\n",
    "        # Keep the best value if it has a greater fitness\n",
    "        if fnew > fbest:\n",
    "            xbest = xnew\n",
    "            ybest = ynew\n",
    "            zbest = znew\n",
    "            fbest = fnew\n",
    "        # Chance of keeping a worst solution\n",
    "        elif random.random() < math.exp((fnew-fbest)/T):\n",
    "            xbest = xnew\n",
    "            ybest = ynew\n",
    "            zbest = znew\n",
    "            fbest = fnew\n",
    "    # Return the best x, y, z and fitness\n",
    "    return xbest, ybest, zbest, fbest"
   ]
  },
  {
   "cell_type": "code",
   "execution_count": 22,
   "id": "fa5e2fd8",
   "metadata": {},
   "outputs": [
    {
     "name": "stdout",
     "output_type": "stream",
     "text": [
      "Gen Alg gives us: \n"
     ]
    },
    {
     "data": {
      "image/png": "[encoded data removed]",
      "text/plain": [
       "<Figure size 640x480 with 1 Axes>"
      ]
     },
     "metadata": {},
     "output_type": "display_data"
    }
   ],
   "source": [
    "# perform the fitted genetic algorithm 10000 times with base case of 10000 steps\n",
    "# worst case this algorithm will run 10000 * 900 * 100 = 900000000 iterations\n",
    "# put the results of each run in a list\n",
    "iterations = 10000\n",
    "bestlist = []\n",
    "for i in range(iterations):\n",
    "    xtemp, ytemp, ztemp, ftemp = fitgenAlg3(lowerx=xbound[0], upperx=xbound[1], lowery=ybound[0], uppery=ybound[1], lowerz=zbound[0], upperz=zbound[1])\n",
    "    bestlist.append((xtemp,ytemp,ztemp, ftemp))\n",
    "# sort the list of results \n",
    "fitgenmaxlist = []\n",
    "for i in range(iterations):\n",
    "    maxpair = max(bestlist, key=lambda item: item[-1])\n",
    "    fitgenmaxlist.append(maxpair)\n",
    "    bestlist.remove(maxpair)\n",
    "# plot the list of runs and see how consistent it is\n",
    "flist = []\n",
    "print(\"Gen Alg gives us: \")\n",
    "for i in fitgenmaxlist:\n",
    "    flist.append(i[-1])\n",
    "plt.hist(flist)\n",
    "plt.show()"
   ]
  },
  {
   "cell_type": "code",
   "execution_count": 23,
   "id": "bd64d00f",
   "metadata": {},
   "outputs": [
    {
     "name": "stdout",
     "output_type": "stream",
     "text": [
      "[(4.049888430220994, 4.573615973552249, 4.740751848112291, 10.55366299617113), (3.3006192276299497, 4.738670658478618, 4.744064044022055, 10.441526707166009), (3.6798958804515527, 4.336977723692003, 0.9854235708330303, 10.433023798322623), (3.297194163957241, 4.094813948491861, 4.745106309150502, 10.424994160166888), (3.7970465024964173, 3.5584305472549795, 4.747926178508054, 10.422928087791995), (2.5450904483128225, 4.811920122905639, 2.090195126426004, 10.412919550890647), (4.050440107254996, 3.944599055617563, 4.737983069503029, 10.375577176412921), (3.297810257077273, 4.110383230037199, 2.0856870100806786, 10.374061122610613), (3.8035214274545543, 4.805915436438665, 4.749208630701549, 10.37361340497096), (4.431535041923155, 4.173682552603353, 2.7150094053582063, 10.339296886190883)]\n"
     ]
    }
   ],
   "source": [
    "# print the top 10 from the fitted Genetic algorithm\n",
    "print(fitgenmaxlist[0:10])"
   ]
  },
  {
   "cell_type": "code",
   "execution_count": 24,
   "id": "d53b3171",
   "metadata": {},
   "outputs": [
    {
     "name": "stdout",
     "output_type": "stream",
     "text": [
      "ILS gives us: \n"
     ]
    },
    {
     "data": {
      "image/png": "[encoded data removed]",
      "text/plain": [
       "<Figure size 640x480 with 1 Axes>"
      ]
     },
     "metadata": {},
     "output_type": "display_data"
    }
   ],
   "source": [
    "# perform the ILS algorithm 1000 times with base case of 1000 steps\n",
    "# worst case this algorithm will run 1000 * 900 * 100 = 90000000 iterations\n",
    "# put the results of each run in a list\n",
    "iterations = 1000\n",
    "bestlist = []\n",
    "for i in range(iterations):\n",
    "    xtemp, ytemp, ztemp, ftemp = fitils3(lowerx=xbound[0], upperx=xbound[1], lowery=ybound[0], uppery=ybound[1], lowerz=zbound[0], upperz=zbound[1])\n",
    "    bestlist.append((xtemp,ytemp,ztemp, ftemp))\n",
    "# sort the list of results \n",
    "fitilsmaxlist = []\n",
    "for i in range(iterations):\n",
    "    maxpair = max(bestlist, key=lambda item: item[-1])\n",
    "    fitilsmaxlist.append(maxpair)\n",
    "    bestlist.remove(maxpair)\n",
    "# plot the list of runs and see how consistent it is\n",
    "flist = []\n",
    "print(\"ILS gives us: \")\n",
    "for i in fitilsmaxlist:\n",
    "    flist.append(i[-1])\n",
    "plt.hist(flist)\n",
    "plt.show()"
   ]
  },
  {
   "cell_type": "code",
   "execution_count": 25,
   "id": "af6c2ee9",
   "metadata": {
    "scrolled": true
   },
   "outputs": [
    {
     "name": "stdout",
     "output_type": "stream",
     "text": [
      "[(4.431237536488602, 4.811062924379455, 2.083239492479558, 10.567689348453877), (3.2981629857504955, 3.474401258110002, 4.7440441785438825, 10.531358767891751), (2.545623356809045, 4.887353865977106, 4.746682980839742, 10.504548205754219), (3.798704148831848, 4.811921824609705, 0.9852318191066443, 10.494803844314527), (4.050416444432509, 3.320367176636552, 2.7129261712241153, 10.456308107490905), (4.430445544898509, 4.258617472254194, 2.714339288764469, 10.434984778520274), (4.431584816429448, 2.9266899708573786, 2.0841566216527907, 10.42935429681033), (4.051725957595233, 3.944577065997081, 1.7612701144217549, 10.42198550940805), (3.2980934154282515, 2.8448495090476245, 2.7110276098901345, 10.405317336487537), (3.3007816820257156, 4.6555198896575405, 0.9836536136244723, 10.39870396116402)]\n"
     ]
    }
   ],
   "source": [
    "# print the top 10 from the fitted ILS algorithm\n",
    "print(fitilsmaxlist[0:10])"
   ]
  },
  {
   "cell_type": "code",
   "execution_count": 27,
   "id": "f1bcfe50",
   "metadata": {},
   "outputs": [
    {
     "name": "stdout",
     "output_type": "stream",
     "text": [
      "Simulated Annealing gives us: \n"
     ]
    },
    {
     "data": {
      "image/png": "[encoded data removed]",
      "text/plain": [
       "<Figure size 640x480 with 1 Axes>"
      ]
     },
     "metadata": {},
     "output_type": "display_data"
    }
   ],
   "source": [
    "# perform the simulated annealing algorithm 10000 times with base case of 10000 steps\n",
    "# at worst case this algorithm will run for 10000 * 10000 = 100000000 iterations\n",
    "# put the results of each run in a list\n",
    "iterations = 10000\n",
    "bestlist = []\n",
    "for i in range(iterations):\n",
    "    xtemp, ytemp, ztemp, ftemp = fitsimAnneal3(lowerx=xbound[0], upperx=xbound[1], lowery=ybound[0], uppery=ybound[1], lowerz=zbound[0], upperz=zbound[1])\n",
    "    bestlist.append((xtemp,ytemp,ztemp, ftemp))\n",
    "# sort the list of results \n",
    "fitsimmaxlist = []\n",
    "for i in range(iterations):\n",
    "    maxpair = max(bestlist, key=lambda item: item[-1])\n",
    "    fitsimmaxlist.append(maxpair)\n",
    "    bestlist.remove(maxpair)\n",
    "# plot the list of runs and see how consistent it is\n",
    "flist = []\n",
    "print(\"Simulated Annealing gives us: \")\n",
    "for i in fitsimmaxlist:\n",
    "    flist.append(i[-1])\n",
    "plt.hist(flist)\n",
    "plt.show()"
   ]
  },
  {
   "cell_type": "code",
   "execution_count": 28,
   "id": "56515095",
   "metadata": {},
   "outputs": [
    {
     "name": "stdout",
     "output_type": "stream",
     "text": [
      "[(4.430700732235293, 4.80770190536546, 4.746993976743159, 10.5818079303894), (3.29864043162981, 4.1069927204672085, 4.745861686454687, 10.568614923758567), (4.4325937156161235, 4.888940356486867, 4.745930837513267, 10.560005491414863), (4.435250370027976, 4.186465444080443, 4.744798917199862, 10.53171640769417), (4.935223459499211, 4.964082162423607, 4.743465692395884, 10.504207966606801), (3.2984949437137994, 4.738589122466818, 4.741892701291951, 10.491676474593023), (4.429933081407541, 4.891253685512854, 4.749651564558195, 10.481144547120799), (2.169703693044422, 4.572552900614006, 4.748611107533787, 10.463261771045785), (3.7990220911348387, 4.258618791346996, 4.746610829381012, 10.46191659341228), (2.5450617993234803, 4.806854881851256, 4.744775444966347, 10.460556264359282)]\n"
     ]
    }
   ],
   "source": [
    "# print the top 10 from the fitted Sim Anneal algorithm\n",
    "print(fitsimmaxlist[0:10])"
   ]
  },
  {
   "cell_type": "code",
   "execution_count": 54,
   "id": "f0add7dc",
   "metadata": {},
   "outputs": [
    {
     "name": "stdout",
     "output_type": "stream",
     "text": [
      "[(3.6772267273422643, 4.96626754668021, 4.744465258887172, 10.61514344608478), (4.430700732235293, 4.80770190536546, 4.746993976743159, 10.5818079303894), (4.430700732235293, 4.80770190536546, 4.746993976743159, 10.5818079303894), (4.430700732235293, 4.80770190536546, 4.746993976743159, 10.5818079303894), (3.29864043162981, 4.1069927204672085, 4.745861686454687, 10.568614923758567), (3.29864043162981, 4.1069927204672085, 4.745861686454687, 10.568614923758567), (3.29864043162981, 4.1069927204672085, 4.745861686454687, 10.568614923758567), (4.431237536488602, 4.811062924379455, 2.083239492479558, 10.567689348453877), (4.431237536488602, 4.811062924379455, 2.083239492479558, 10.567689348453877), (4.431237536488602, 4.811062924379455, 2.083239492479558, 10.567689348453877)]\n",
      "Bounds for x: (3.29864043162981, 4.441237536488602) \n",
      " Bounds for y: (4.1069927204672085, 4.9762675466802095) \n",
      " Bounds for z: (2.083239492479558, 4.756993976743159) \n",
      "\n"
     ]
    }
   ],
   "source": [
    "# get all values gathered from all algorithms and put them in a list\n",
    "totallist2 = [item for sublist in zip(fitilsmaxlist, fitgenmaxlist, fitsimmaxlist) for item in sublist]\n",
    "# sort the list\n",
    "totallist2.sort(key=lambda item: item[-1], reverse = True)\n",
    "# combine the results with the previous results\n",
    "totallist = totallist1 + totallist2\n",
    "# sort the total list of results\n",
    "totallist.sort(key=lambda i: i[-1], reverse= True)\n",
    "# take the top 10 of all results and keep them to determine the new bounds\n",
    "accepted = 10\n",
    "newtotal = totallist[0:accepted]\n",
    "print(newtotal)\n",
    "# find lowest and highest values of x, y and z to determine the bound\n",
    "zip(*newtotal)\n",
    "mins = map(min, zip(*newtotal))\n",
    "maxs = map(max, zip(*newtotal))\n",
    "allbounds = list(mins), list(maxs)\n",
    "# set the bounds\n",
    "xbound = allbounds[0][0], allbounds[1][0]\n",
    "ybound = allbounds[0][1], allbounds[1][1]\n",
    "zbound = allbounds[0][2], allbounds[1][2]\n",
    "# in case upper bound is overfitted, we add a scalar to the current bount\n",
    "xbound = xbound[0], xbound[1] + 0.01\n",
    "ybound = ybound[0], ybound[1] + 0.01\n",
    "zbound = zbound[0], zbound[1] + 0.01\n",
    "\n",
    "print(f\"Bounds for x: {xbound} \\n Bounds for y: {ybound} \\n Bounds for z: {zbound} \\n\")"
   ]
  },
  {
   "cell_type": "markdown",
   "id": "3c7eb906",
   "metadata": {},
   "source": [
    "Best Result so far:\n",
    "(3.6772267273422643, 4.96626754668021, 4.744465258887172, 10.61514344608478)\n",
    "From the previous run"
   ]
  },
  {
   "cell_type": "code",
   "execution_count": 55,
   "id": "e2310579",
   "metadata": {},
   "outputs": [
    {
     "name": "stdout",
     "output_type": "stream",
     "text": [
      "Gen Alg gives us: \n"
     ]
    },
    {
     "data": {
      "image/png": "[encoded data removed]",
      "text/plain": [
       "<Figure size 640x480 with 1 Axes>"
      ]
     },
     "metadata": {},
     "output_type": "display_data"
    }
   ],
   "source": [
    "# perform the genetic algorithm 10000 times with base case of 10000 steps\n",
    "# worst case this algorithm will run 10000 * 900 * 100 = 900000000 iterations\n",
    "# put the results of each run in a list\n",
    "iterations = 10000\n",
    "bestlist = []\n",
    "for i in range(iterations):\n",
    "    xtemp, ytemp, ztemp, ftemp = fitgenAlg3(lowerx=xbound[0], upperx=xbound[1], lowery=ybound[0], uppery=ybound[1], lowerz=zbound[0], upperz=zbound[1])\n",
    "    bestlist.append((xtemp,ytemp,ztemp, ftemp))\n",
    "# sort the list of results \n",
    "fit2genmaxlist = []\n",
    "for i in range(iterations):\n",
    "    maxpair = max(bestlist, key=lambda item: item[-1])\n",
    "    fit2genmaxlist.append(maxpair)\n",
    "    bestlist.remove(maxpair)\n",
    "# plot the list of runs and see how consistent it is\n",
    "flist = []\n",
    "print(\"Gen Alg gives us: \")\n",
    "for i in fit2genmaxlist:\n",
    "    flist.append(i[-1])\n",
    "plt.hist(flist)\n",
    "plt.show()"
   ]
  },
  {
   "cell_type": "code",
   "execution_count": 56,
   "id": "f92c75e2",
   "metadata": {},
   "outputs": [
    {
     "name": "stdout",
     "output_type": "stream",
     "text": [
      "[(4.431926186586977, 4.806793607384736, 4.749551267044742, 10.58909014236815), (4.4315234054828565, 4.808452445178257, 4.747463487899365, 10.581170505441667), (3.6798259914365166, 4.964802779165561, 4.748430835067065, 10.578336189011246), (3.301941862074573, 4.7340204793865786, 4.748805686358576, 10.546431278438932), (4.051073239424175, 4.58325395990458, 4.745470931626091, 10.52475693553782), (3.6806497817699655, 4.960422875826318, 4.747787446796687, 10.503246088484081), (4.430363123434558, 4.811032996631061, 2.089577204177335, 10.48874101851031), (4.431652880262087, 4.811003399705012, 2.7132360824479664, 10.484584870618102), (3.3010989828884583, 4.73311416762686, 2.7082034540512483, 10.48320246174953), (4.429277287055767, 4.17846228801979, 2.0859312008277584, 10.473470741330035)]\n"
     ]
    }
   ],
   "source": [
    "# print the top 10 from the fitted Genetic algorithm\n",
    "print(fit2genmaxlist[0:10])"
   ]
  },
  {
   "cell_type": "code",
   "execution_count": 58,
   "id": "6e6997b5",
   "metadata": {},
   "outputs": [
    {
     "name": "stdout",
     "output_type": "stream",
     "text": [
      "ILS gives us: \n"
     ]
    },
    {
     "data": {
      "image/png": "[encoded data removed]",
      "text/plain": [
       "<Figure size 640x480 with 1 Axes>"
      ]
     },
     "metadata": {},
     "output_type": "display_data"
    }
   ],
   "source": [
    "# perform the ILS algorithm 1000 times with base case of 1000 steps\n",
    "# worst case this algorithm will run 1000 * 900 * 100 = 90000000 iterations\n",
    "# put the results of each run in a list\n",
    "iterations = 1000\n",
    "accepted = int(0.1 * iterations)\n",
    "bestlist = []\n",
    "for i in range(iterations):\n",
    "    xtemp, ytemp, ztemp, ftemp = fitils3(lowerx=xbound[0], upperx=xbound[1], lowery=ybound[0], uppery=ybound[1], lowerz=zbound[0], upperz=zbound[1],small_step_size=0.005, big_step_size=0.02)\n",
    "    bestlist.append((xtemp,ytemp,ztemp, ftemp))\n",
    "# sort the list of results \n",
    "fit2ilsmaxlist = []\n",
    "for i in range(iterations):\n",
    "    maxpair = max(bestlist, key=lambda item: item[-1])\n",
    "    fit2ilsmaxlist.append(maxpair)\n",
    "    bestlist.remove(maxpair)\n",
    "# plot the list of runs and see how consistent it is\n",
    "flist = []\n",
    "print(\"ILS gives us: \")\n",
    "for i in fit2ilsmaxlist:\n",
    "    flist.append(i[-1])\n",
    "plt.hist(flist)\n",
    "plt.show()"
   ]
  },
  {
   "cell_type": "code",
   "execution_count": 59,
   "id": "c588d220",
   "metadata": {},
   "outputs": [
    {
     "name": "stdout",
     "output_type": "stream",
     "text": [
      "[(4.432268895976592, 4.811921102602805, 4.745458501028399, 10.673957467810844), (4.429371752796622, 4.886565765903206, 4.745181675037025, 10.58996719964195), (4.431330850591677, 4.81192415888383, 2.710285825595309, 10.583010686304371), (4.430564198763783, 4.811065701177706, 2.7100477456074192, 10.583000833758403), (3.6775761170075936, 4.338286474797775, 4.74393219023003, 10.562650820763553), (4.430485903486747, 4.1832891567739, 2.713233335736909, 10.532155363327199), (4.4299687829446, 4.181686978179758, 2.711963812225255, 10.530427936042624), (3.7996629270144733, 4.183243645974209, 4.744976772910306, 10.51400849654648), (4.43042509986088, 4.888144751005189, 2.7126571422429375, 10.50331832921706), (3.299360768163312, 4.656518797271064, 4.745356985685963, 10.495892922727137)]\n"
     ]
    }
   ],
   "source": [
    "# print the top 10 from the fitted ILS algorithm\n",
    "print(fit2ilsmaxlist[0:10])"
   ]
  },
  {
   "cell_type": "code",
   "execution_count": 60,
   "id": "11bf58d7",
   "metadata": {},
   "outputs": [
    {
     "name": "stdout",
     "output_type": "stream",
     "text": [
      "Simulated Annealing gives us: \n"
     ]
    },
    {
     "data": {
      "image/png": "[encoded data removed]",
      "text/plain": [
       "<Figure size 640x480 with 1 Axes>"
      ]
     },
     "metadata": {},
     "output_type": "display_data"
    }
   ],
   "source": [
    "# perform the simulated annealing algorithm 10000 times with base case of 10000 steps\n",
    "# at worst case this algorithm will run for 10000 * 10000 = 100000000 iterations\n",
    "# put the results of each run in a list\n",
    "iterations = 10000\n",
    "bestlist = []\n",
    "for i in range(iterations):\n",
    "    xtemp, ytemp, ztemp, ftemp = fitsimAnneal3(lowerx=xbound[0], upperx=xbound[1], lowery=ybound[0], uppery=ybound[1], lowerz=zbound[0], upperz=zbound[1])\n",
    "    bestlist.append((xtemp,ytemp,ztemp, ftemp))\n",
    "# sort the list of results \n",
    "fit2simmaxlist = []\n",
    "for i in range(iterations):\n",
    "    maxpair = max(bestlist, key=lambda item: item[-1])\n",
    "    fit2simmaxlist.append(maxpair)\n",
    "    bestlist.remove(maxpair)\n",
    "# plot the list of runs and see how consistent it is\n",
    "flist = []\n",
    "print(\"Simulated Annealing gives us: \")\n",
    "for i in fit2simmaxlist:\n",
    "    flist.append(i[-1])\n",
    "plt.hist(flist)\n",
    "plt.show()"
   ]
  },
  {
   "cell_type": "code",
   "execution_count": 61,
   "id": "3a4acc7a",
   "metadata": {},
   "outputs": [
    {
     "name": "stdout",
     "output_type": "stream",
     "text": [
      "[(4.431844907147777, 4.808481409594284, 4.746149071416805, 10.648883313383207), (4.430036866629316, 4.809359183039953, 4.7431292063067305, 10.64883066008807), (4.43320335550395, 4.811930253263859, 4.747435489838961, 10.647223625921747), (4.432281328421223, 4.8110927577735785, 4.747327006368487, 10.645760087444064), (4.427293005641478, 4.810212348700341, 4.745114890340851, 10.631761250565084), (4.430102077168928, 4.806785820501238, 4.743073752289801, 10.61552173405772), (4.053427881946626, 4.572535563057927, 4.746895970825542, 10.611469895821882), (4.4287574796998666, 4.810187470246163, 4.74241352402446, 10.607458480449546), (3.2989555795386236, 4.735851543905742, 4.744270557266948, 10.60717658215488), (4.427803193019485, 4.8068084483137135, 4.74543662172246, 10.604392885551118)]\n"
     ]
    }
   ],
   "source": [
    "# print the top 10 from the fitted Sim Anneal algorithm\n",
    "print(fit2simmaxlist[0:10])"
   ]
  },
  {
   "cell_type": "code",
   "execution_count": 62,
   "id": "2976324f",
   "metadata": {},
   "outputs": [
    {
     "name": "stdout",
     "output_type": "stream",
     "text": [
      "[(4.432268895976592, 4.811921102602805, 4.745458501028399, 10.673957467810844), (4.431844907147777, 4.808481409594284, 4.746149071416805, 10.648883313383207), (4.430036866629316, 4.809359183039953, 4.7431292063067305, 10.64883066008807), (4.43320335550395, 4.811930253263859, 4.747435489838961, 10.647223625921747), (4.432281328421223, 4.8110927577735785, 4.747327006368487, 10.645760087444064), (4.427293005641478, 4.810212348700341, 4.745114890340851, 10.631761250565084), (4.430102077168928, 4.806785820501238, 4.743073752289801, 10.61552173405772), (3.6772267273422643, 4.96626754668021, 4.744465258887172, 10.61514344608478), (4.053427881946626, 4.572535563057927, 4.746895970825542, 10.611469895821882), (4.4287574796998666, 4.810187470246163, 4.74241352402446, 10.607458480449546), (3.2989555795386236, 4.735851543905742, 4.744270557266948, 10.60717658215488), (4.427803193019485, 4.8068084483137135, 4.74543662172246, 10.604392885551118), (4.435559039951216, 4.8119113279508, 4.744599320013058, 10.599425892762728), (4.429371752796622, 4.886565765903206, 4.745181675037025, 10.58996719964195), (4.433916924635693, 4.181677055927822, 4.745658199758526, 10.589904201887162), (4.431926186586977, 4.806793607384736, 4.749551267044742, 10.58909014236815), (3.6769297586235012, 4.96701867568427, 4.748865827390143, 10.587802464488727), (4.050105618421762, 4.576801497647316, 4.749433326014084, 10.583568680483298), (4.431330850591677, 4.81192415888383, 2.710285825595309, 10.583010686304371), (4.430564198763783, 4.811065701177706, 2.7100477456074192, 10.583000833758403), (4.430700732235293, 4.80770190536546, 4.746993976743159, 10.5818079303894), (4.430700732235293, 4.80770190536546, 4.746993976743159, 10.5818079303894), (4.430700732235293, 4.80770190536546, 4.746993976743159, 10.5818079303894), (4.430227715709549, 4.80847902173797, 4.750020794079019, 10.58145164895114), (4.4315234054828565, 4.808452445178257, 4.747463487899365, 10.581170505441667), (3.6798259914365166, 4.964802779165561, 4.748430835067065, 10.578336189011246), (3.300451529421446, 4.7331166610075135, 4.749254702758943, 10.57672640102484), (3.675642774513197, 4.96553910273249, 4.744094275400286, 10.575813839869912), (4.4319611902468905, 4.816180423187351, 4.749565029757259, 10.574105730756932), (3.29864043162981, 4.1069927204672085, 4.745861686454687, 10.568614923758567)]\n",
      "Bounds for x: (3.6772267273422643, 4.43320335550395) \n",
      " Bounds for y: (4.572535563057927, 4.96626754668021) \n",
      " Bounds for z: (4.74241352402446, 4.747435489838961) \n",
      "\n"
     ]
    }
   ],
   "source": [
    "# get all values gathered so far and put them in a list\n",
    "totallist3 = [item for sublist in zip(fit2ilsmaxlist, fit2genmaxlist, fit2simmaxlist) for item in sublist]\n",
    "# sort the list\n",
    "totallist3.sort(key=lambda item: item[-1], reverse = True)\n",
    "totallist = totallist + totallist3\n",
    "totallist.sort(key=lambda i: i[-1], reverse= True)\n",
    "# print top 30 from the best gathered results\n",
    "print(totallist[0:30])\n",
    "# take the top 10 of all results and keep them to determine the new bounds\n",
    "accepted = 10\n",
    "newtotal = totallist[0:accepted]\n",
    "# find lowest and highest values of x, y and z\n",
    "zip(*newtotal)\n",
    "mins = map(min, zip(*newtotal))\n",
    "maxs = map(max, zip(*newtotal))\n",
    "allbounds = list(mins), list(maxs)\n",
    "# set the bounds with an extra scalar added for upper bound\n",
    "xbound = xbound[0], xbound[1] + 0.001\n",
    "ybound = ybound[0], ybound[1] + 0.001\n",
    "zbound = zbound[0], zbound[1] + 0.001\n",
    "print(f\"Bounds for x: {xbound} \\n Bounds for y: {ybound} \\n Bounds for z: {zbound} \\n\")"
   ]
  },
  {
   "cell_type": "markdown",
   "id": "d34db728",
   "metadata": {},
   "source": [
    "Result from 3rd generation:\n",
    "(4.432268895976592, 4.811921102602805, 4.745458501028399, 10.673957467810844)\n",
    "From ILS"
   ]
  },
  {
   "cell_type": "code",
   "execution_count": 64,
   "id": "8802cd4b",
   "metadata": {},
   "outputs": [
    {
     "name": "stdout",
     "output_type": "stream",
     "text": [
      "Gen Alg gives us: \n"
     ]
    },
    {
     "data": {
      "image/png": "[encoded data removed]",
      "text/plain": [
       "<Figure size 640x480 with 1 Axes>"
      ]
     },
     "metadata": {},
     "output_type": "display_data"
    }
   ],
   "source": [
    "# perform the genetic algorithm 10000 times with base case of 10000 steps\n",
    "# worst case this algorithm will run 1000 * 900 * 100 = 90000000 iterations\n",
    "# put the results of each walk in a list\n",
    "iterations = 10000\n",
    "bestlist = []\n",
    "for i in range(iterations):\n",
    "    xtemp, ytemp, ztemp, ftemp = fitgenAlg3(lowerx=xbound[0], upperx=xbound[1], lowery=ybound[0], uppery=ybound[1], lowerz=zbound[0], upperz=zbound[1], mutation_size = 0.01)\n",
    "    bestlist.append((xtemp,ytemp,ztemp, ftemp))\n",
    "# sort the list of results \n",
    "fitgenmaxlist = []\n",
    "for i in range(iterations):\n",
    "    maxpair = max(bestlist, key=lambda item: item[-1])\n",
    "    fitgenmaxlist.append(maxpair)\n",
    "    bestlist.remove(maxpair)\n",
    "# plot the list of runs and see how consistent it is\n",
    "flist = []\n",
    "print(\"Gen Alg gives us: \")\n",
    "for i in fitgenmaxlist:\n",
    "    flist.append(i[-1])\n",
    "plt.hist(flist)\n",
    "plt.show()"
   ]
  },
  {
   "cell_type": "code",
   "execution_count": 65,
   "id": "bdbe3765",
   "metadata": {},
   "outputs": [
    {
     "name": "stdout",
     "output_type": "stream",
     "text": [
      "[(4.431322237983405, 4.812771996151586, 4.745948786443192, 10.67718005453427), (4.431253306040056, 4.812763303775942, 4.745694289632371, 10.677127198342054), (4.431279604493124, 4.8119312714362374, 4.746234213894256, 10.674841273059727), (4.429616643335201, 4.81106646957524, 4.744869032200659, 10.673695864834134), (4.430172909408623, 4.811907415012181, 4.746752972703044, 10.673370999882684), (4.43209700926844, 4.810204106019153, 4.746029469872555, 10.672471818448136), (4.432340245349819, 4.811059719361131, 4.746302324543097, 10.672420866285984), (4.431817459895446, 4.8119199510117365, 4.747093736864251, 10.671501250262082), (4.431452361067235, 4.812776904171913, 4.747004423483713, 10.669436378448045), (4.430691056135706, 4.811936841429687, 4.746601287497265, 10.668473343419787)]\n"
     ]
    }
   ],
   "source": [
    "# print the top 10 from the fitted Genetic algorithm\n",
    "print(fitgenmaxlist[0:10])"
   ]
  },
  {
   "cell_type": "code",
   "execution_count": 66,
   "id": "47a9ff01",
   "metadata": {
    "scrolled": true
   },
   "outputs": [
    {
     "name": "stdout",
     "output_type": "stream",
     "text": [
      "ILS gives us: \n"
     ]
    },
    {
     "data": {
      "image/png": "[encoded data removed]",
      "text/plain": [
       "<Figure size 640x480 with 1 Axes>"
      ]
     },
     "metadata": {},
     "output_type": "display_data"
    }
   ],
   "source": [
    "# perform the ILS algorithm 1000 times with base case of 1000 steps\n",
    "# worst case this algorithm will run 1000 * 900 * 100 = 90000000 iterations\n",
    "# put the results of each walk in a list\n",
    "iterations = 1000\n",
    "bestlist = []\n",
    "for i in range(iterations):\n",
    "    xtemp, ytemp, ztemp, ftemp = fitils3(lowerx=xbound[0], upperx=xbound[1], lowery=ybound[0], uppery=ybound[1], lowerz=zbound[0], upperz=zbound[1], small_step_size=0.001, big_step_size=0.01)\n",
    "    bestlist.append((xtemp,ytemp,ztemp, ftemp))\n",
    "# sort the list of results \n",
    "fitilsmaxlist = []\n",
    "for i in range(iterations):\n",
    "    maxpair = max(bestlist, key=lambda item: item[-1])\n",
    "    fitilsmaxlist.append(maxpair)\n",
    "    bestlist.remove(maxpair)\n",
    "# plot the list of runs and see how consistent it is\n",
    "flist = []\n",
    "print(\"ILS gives us: \")\n",
    "for i in fitilsmaxlist:\n",
    "    flist.append(i[-1])\n",
    "plt.hist(flist)\n",
    "plt.show()"
   ]
  },
  {
   "cell_type": "code",
   "execution_count": 67,
   "id": "ae4d8690",
   "metadata": {
    "scrolled": false
   },
   "outputs": [
    {
     "name": "stdout",
     "output_type": "stream",
     "text": [
      "[(4.430876917754807, 4.811065841389389, 4.745662545725095, 10.68211928313492), (4.430919031138638, 4.811065255835893, 4.745894949292127, 10.682029708164563), (4.4308738744684355, 4.81106692147436, 4.745870035314301, 10.68200698276373), (4.430838458085105, 4.811066444983592, 4.745557672238228, 10.682003672748476), (4.430960166294908, 4.811066562104064, 4.745885263942505, 10.681992905541346), (4.430868159141301, 4.811067615878385, 4.745628422446319, 10.681978145280926), (4.430781563875481, 4.811067611972121, 4.745809229910137, 10.681953322289218), (4.431049203130257, 4.811064445810537, 4.74559314886697, 10.681943380635627), (4.4306236278534294, 4.811066520469483, 4.745749263210507, 10.681866400630696), (4.430789199992018, 4.811068419239635, 4.7458173662674845, 10.68184213403481)]\n"
     ]
    }
   ],
   "source": [
    "# print the top 10 from the fitted ILS algorithm\n",
    "print(fitilsmaxlist[0:10])"
   ]
  },
  {
   "cell_type": "code",
   "execution_count": 68,
   "id": "c461c732",
   "metadata": {
    "scrolled": true
   },
   "outputs": [
    {
     "name": "stdout",
     "output_type": "stream",
     "text": [
      "Simulated Annealing gives us: \n"
     ]
    },
    {
     "data": {
      "image/png": "[encoded data removed]",
      "text/plain": [
       "<Figure size 640x480 with 1 Axes>"
      ]
     },
     "metadata": {},
     "output_type": "display_data"
    }
   ],
   "source": [
    "# perform the simulated annealing algorithm 10000 times with base case of 10000 steps\n",
    "# at worst case this algorithm will run for 10000 * 10000 = 100000000 iterations\n",
    "# put the results of each walk in a list\n",
    "iterations = 10000\n",
    "bestlist = []\n",
    "for i in range(iterations):\n",
    "    xtemp, ytemp, ztemp, ftemp = fitsimAnneal3(lowerx=xbound[0], upperx=xbound[1], lowery=ybound[0], uppery=ybound[1], lowerz=zbound[0], upperz=zbound[1], step_size=0.005)\n",
    "    bestlist.append((xtemp,ytemp,ztemp, ftemp))\n",
    "# sort the list of results \n",
    "fitsimmaxlist = []\n",
    "for i in range(iterations):\n",
    "    maxpair = max(bestlist, key=lambda item: item[-1])\n",
    "    fitsimmaxlist.append(maxpair)\n",
    "    bestlist.remove(maxpair)\n",
    "# plot the list of runs and see how consistent it is\n",
    "flist = []\n",
    "print(\"Simulated Annealing gives us: \")\n",
    "for i in fitsimmaxlist:\n",
    "    flist.append(i[-1])\n",
    "plt.hist(flist)\n",
    "plt.show()"
   ]
  },
  {
   "cell_type": "code",
   "execution_count": 69,
   "id": "4df0acca",
   "metadata": {
    "scrolled": true
   },
   "outputs": [
    {
     "name": "stdout",
     "output_type": "stream",
     "text": [
      "[(4.431484892044794, 4.811072822356275, 4.745883532027668, 10.679270050894862), (4.430566093834138, 4.810214993532605, 4.746175904796443, 10.678837688784988), (4.4309679221876435, 4.810205610440832, 4.745627160243497, 10.678600613946713), (4.430831741240517, 4.811066006954955, 4.746732108007675, 10.678498770445753), (4.431401395967379, 4.811070899641851, 4.746530761112724, 10.678046962696662), (4.431041937081886, 4.812766924829635, 4.7453981437455, 10.67787045296517), (4.430284337055057, 4.811074826394435, 4.746184571193828, 10.677723644175249), (4.432182624046958, 4.81106275518489, 4.745728753796583, 10.675859811827356), (4.431000480327603, 4.810225354248081, 4.7459474679767775, 10.67560629652615), (4.42983899358083, 4.8119141787194595, 4.744967942603944, 10.675429556348469)]\n"
     ]
    }
   ],
   "source": [
    "# print the top 10 from the fitted Sim Anneal algorithm\n",
    "print(fitsimmaxlist[0:10])"
   ]
  },
  {
   "cell_type": "code",
   "execution_count": 70,
   "id": "2be4a47d",
   "metadata": {},
   "outputs": [
    {
     "name": "stdout",
     "output_type": "stream",
     "text": [
      "[(4.430876917754807, 4.811065841389389, 4.745662545725095, 10.68211928313492), (4.430919031138638, 4.811065255835893, 4.745894949292127, 10.682029708164563), (4.4308738744684355, 4.81106692147436, 4.745870035314301, 10.68200698276373), (4.430838458085105, 4.811066444983592, 4.745557672238228, 10.682003672748476), (4.430960166294908, 4.811066562104064, 4.745885263942505, 10.681992905541346), (4.430868159141301, 4.811067615878385, 4.745628422446319, 10.681978145280926), (4.430781563875481, 4.811067611972121, 4.745809229910137, 10.681953322289218), (4.431049203130257, 4.811064445810537, 4.74559314886697, 10.681943380635627), (4.4306236278534294, 4.811066520469483, 4.745749263210507, 10.681866400630696), (4.430789199992018, 4.811068419239635, 4.7458173662674845, 10.68184213403481), (4.431074328118211, 4.811063210426312, 4.745812940657737, 10.681836910507865), (4.430640309834132, 4.811067338679997, 4.745779739857919, 10.681823552203507), (4.430817324797749, 4.81106267801898, 4.745908432051509, 10.681791920042146), (4.430792534371154, 4.811063990057104, 4.745998172533188, 10.681785388008311), (4.430830008271506, 4.811064134593949, 4.746013903047472, 10.681783958656181), (4.43123113667133, 4.811066101869592, 4.7456474153854975, 10.681662941911156), (4.430773329513064, 4.811068845276527, 4.7455360020783175, 10.681657483539729), (4.430840214586533, 4.811067641354923, 4.745410902677957, 10.681648521367832), (4.430855010194145, 4.8110634928320515, 4.7460603874821095, 10.681629664698374), (4.43069313279837, 4.811061900321876, 4.745614171420582, 10.681617394515762), (4.430817631251034, 4.811917958669968, 4.745714029344132, 10.681591447622665), (4.43081077049828, 4.811916224416037, 4.745738374431819, 10.681560605437916), (4.430502387879514, 4.811066178568332, 4.74558168187145, 10.68153051825365), (4.43060360692695, 4.81106188986919, 4.745751620845751, 10.681507460585847), (4.4309332286341565, 4.811062230058882, 4.746056446373949, 10.681452342650338), (4.430915516419558, 4.811067967132673, 4.7453335712346325, 10.681413617266912), (4.431032279555042, 4.811062862860031, 4.745358722073784, 10.681386960111077), (4.430819488553105, 4.811917094223472, 4.746008375631463, 10.681315055047824), (4.43086438912104, 4.811914388692442, 4.745859215249186, 10.681302480846387), (4.431036649954787, 4.811915849890007, 4.7459323044206245, 10.681294188162873)]\n",
      "Bounds for x: (4.4306236278534294, 4.431049203130257) \n",
      " Bounds for y: (4.811064445810537, 4.811068419239635) \n",
      " Bounds for z: (4.745557672238228, 4.745894949292127) \n",
      "\n"
     ]
    }
   ],
   "source": [
    "# get all values gathered so far and put them in a list\n",
    "totallist4 = [item for sublist in zip(fitilsmaxlist, fitgenmaxlist, fitsimmaxlist) for item in sublist]\n",
    "# sort the list\n",
    "totallist4.sort(key=lambda item: item[-1], reverse = True)\n",
    "totallist = totallist + totallist4\n",
    "totallist.sort(key=lambda i: i[-1], reverse= True)\n",
    "# print top 30 from the best gathered results\n",
    "print(totallist[0:30])\n",
    "# take the top 10 of all results and keep them to determine the new bounds\n",
    "accepted = 10\n",
    "newtotal = totallist[0:accepted]\n",
    "# find lowest and highest values of x, y and z\n",
    "zip(*newtotal)\n",
    "mins = map(min, zip(*newtotal))\n",
    "maxs = map(max, zip(*newtotal))\n",
    "allbounds = list(mins), list(maxs)\n",
    "xbound = allbounds[0][0], allbounds[1][0]\n",
    "ybound = allbounds[0][1], allbounds[1][1]\n",
    "zbound = allbounds[0][2], allbounds[1][2]\n",
    "# in case upper bound is overfitted\n",
    "xbound = xbound[0], xbound[1] + 0.0001\n",
    "ybound = ybound[0], ybound[1] + 0.0001\n",
    "zbound = zbound[0], zbound[1] + 0.0001\n",
    "print(f\"Bounds for x: {xbound} \\n Bounds for y: {ybound} \\n Bounds for z: {zbound} \\n\")"
   ]
  },
  {
   "cell_type": "markdown",
   "id": "2470f34f",
   "metadata": {},
   "source": [
    "Result from 4th Generation:\n",
    "(4.430876917754807, 4.811065841389389, 4.745662545725095, 10.68211928313492)\n",
    "From ILS"
   ]
  }
 ],
 "metadata": {
  "kernelspec": {
   "display_name": "Python 3 (ipykernel)",
   "language": "python",
   "name": "python3"
  },
  "language_info": {
   "codemirror_mode": {
    "name": "ipython",
    "version": 3
   },
   "file_extension": ".py",
   "mimetype": "text/x-python",
   "name": "python",
   "nbconvert_exporter": "python",
   "pygments_lexer": "ipython3",
   "version": "3.9.13"
  }
 },
 "nbformat": 4,
 "nbformat_minor": 5
}
