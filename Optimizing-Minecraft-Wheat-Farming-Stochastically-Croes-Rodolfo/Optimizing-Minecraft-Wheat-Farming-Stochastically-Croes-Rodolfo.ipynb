{
 "cells": [
  {
   "cell_type": "code",
   "execution_count": 1,
   "id": "c6ed7254",
   "metadata": {},
   "outputs": [],
   "source": [
    "# imports\n",
    "import random \n",
    "import numpy \n",
    "import math\n",
    "import pandas as pd\n",
    "import matplotlib.pyplot as plt\n",
    "import time\n",
    "from itertools import permutations\n",
    "import sys, heapq\n",
    "from itertools import chain"
   ]
  },
  {
   "cell_type": "markdown",
   "id": "00b61259",
   "metadata": {},
   "source": [
    "## Part 3: Optimizing Minecraft Wheat Farming Stochastically\n",
    "We start by defining what we are taking in as input and what the output should be. For this case the inputs are the size of a farm (9 by 9 with one water block in the middle), the fastest time all the crops can grow and the slowest the crops can grow. The outputs are the amount of harvested crops, and the time it took for all the crops to be harvested. "
   ]
  },
  {
   "cell_type": "code",
   "execution_count": 1390,
   "id": "250051ac",
   "metadata": {},
   "outputs": [],
   "source": [
    "# harvest function simulates how many wheat will be harvested after a random amount of ticks capped to 2 minecraft days\n",
    "# takes in the integer n of a size n*n farm where n >= 5, the maximum amount of time before harvesting, the update rate of a crop, and the amount of growth stages a crop takes\n",
    "# returns the output of wheat when harvesting and at what time in ticks when the wheats were harvested.\n",
    "def harvest(harvestpoint, size=9, updaterate = 1365, stagesofgrowth = 8):\n",
    "    # from farm size, find out how many crops are growing at the same time\n",
    "    # minimum 5 by 5 farm\n",
    "    crops = (size * size) - 1\n",
    "    # find out how many of the crops have only 3 adjacent crops\n",
    "    # these are the corner blocks\n",
    "    adj3 = 4\n",
    "    # find out how many of the crops have only 5 adjacent crops\n",
    "    # these are the sides of a farm excluding the corners\n",
    "    adj5 = 4 * (size - 2)\n",
    "    # find out how many of the crops have only 8 adjacent crops\n",
    "    # these are all of the middle crops\n",
    "    adj78 = crops - adj3 - adj5\n",
    "    # checks for condition of crops, if they are not met return a message\n",
    "    if crops == 0:\n",
    "        return \"No crops found\"\n",
    "    if crops < 16:\n",
    "        return \"Farm too small\"\n",
    "    # set a counter for amount of wheat harvested (minimum is 1)\n",
    "    wheatcount = 0\n",
    "    # determine the amount of block updates that happen in the randomly selected time\n",
    "    amountofupdates = int(harvestpoint/updaterate)\n",
    "    # probability of crop growth per block update (acquired at reference [3])\n",
    "    growthprobability78 = (1/3) / 2\n",
    "    growthprobability5 = (1/4) / 2\n",
    "    growthprobability3 = (1/5) / 2\n",
    "    # iterate over each crop whether when it's havested it will produce 1 wheat\n",
    "    growthprobability = 0\n",
    "    for i in range(crops):\n",
    "        # check which probability will be used per iteration\n",
    "        if i < adj3:\n",
    "            growthprobability = growthprobability3\n",
    "        elif i >=adj3 and i < adj5 + adj3:\n",
    "            growthprobability = growthprobability5\n",
    "        else:\n",
    "            growthprobability = growthprobability78\n",
    "        # initialize the growth stage of the crop\n",
    "        growthstage = 1\n",
    "        # iterate over the amount of updates taking place\n",
    "        for i in range(amountofupdates):\n",
    "            # if the random value is less than or equal to the growth probability, then the crop grows to it's next stage\n",
    "            if random.random() <= growthprobability:\n",
    "                growthstage += 1\n",
    "        # if the crop grows equal to or more than the amount of stages of growth, a wheat is harvested\n",
    "        if growthstage >= stagesofgrowth:\n",
    "            # add one to the wheat counter\n",
    "            wheatcount += 1\n",
    "    # return amount of wheat the farm produced\n",
    "    return wheatcount\n"
   ]
  },
  {
   "cell_type": "code",
   "execution_count": 1391,
   "id": "37b7ae39",
   "metadata": {},
   "outputs": [
    {
     "name": "stdout",
     "output_type": "stream",
     "text": [
      "Expected wheat harvested at tick 45867 : 18\n"
     ]
    }
   ],
   "source": [
    "# sample of how the code works\n",
    "pointtemp = int(random.uniform(0, 72000))\n",
    "wheattemp = harvest(pointtemp)\n",
    "print(f'Expected wheat harvested at tick {pointtemp} : {wheattemp}')"
   ]
  },
  {
   "cell_type": "code",
   "execution_count": 1403,
   "id": "cec8f31d",
   "metadata": {},
   "outputs": [],
   "source": [
    "# random search over 1000 farm runs\n",
    "def farmRandomSearch(steps=1000, mintime = 0, maxtime=72000):\n",
    "    # base case\n",
    "    bestpoint = int(random.uniform(mintime, maxtime))\n",
    "    bestwheat = harvest(bestpoint)\n",
    "    bestratio = bestwheat / bestpoint\n",
    "    # for every step, make new point, get the wheat harvested and get the ratio\n",
    "    for i in range(steps):\n",
    "        newpoint = int(random.uniform(mintime, maxtime))\n",
    "        newwheat = harvest(pointtemp)\n",
    "        newratio = bestwheat / bestpoint\n",
    "        # best ratio determines what value is kept\n",
    "        if newratio > bestratio:\n",
    "            bestratio = newratio\n",
    "            bestwheat = newwheat\n",
    "            bestpoint = newpoint\n",
    "    return bestwheat, bestpoint, bestratio"
   ]
  },
  {
   "cell_type": "code",
   "execution_count": 1404,
   "id": "4a2c7222",
   "metadata": {},
   "outputs": [
    {
     "name": "stdout",
     "output_type": "stream",
     "text": [
      "[(56, 70635, 0.0007928080979684293), (55, 69795, 0.0007880220646178094), (55, 71992, 0.0007639737748638737), (45, 60595, 0.0007426355309844046), (51, 68835, 0.0007409021573327523), (44, 59633, 0.0007378464943906897), (50, 68056, 0.0007346890795815211), (47, 64722, 0.000726182750842063), (52, 71696, 0.0007252845347020755), (49, 69494, 0.0007050968428929116)]\n",
      "Random search on many harvests gives us: \n"
     ]
    },
    {
     "data": {
      "image/png": "[encoded data removed]",
      "text/plain": [
       "<Figure size 640x480 with 1 Axes>"
      ]
     },
     "metadata": {},
     "output_type": "display_data"
    }
   ],
   "source": [
    "# multiple runs on random search to find roughly where the best time is\n",
    "iterations = 100\n",
    "bestrandomratiolist = []\n",
    "for i in range(iterations):\n",
    "    wheattemp, pointtemp, ratiotemp = farmRandomSearch()\n",
    "    bestrandomratiolist.append((wheattemp, pointtemp, ratiotemp))\n",
    "bestrandomratiolist.sort(key=lambda item: item[-1], reverse = True)\n",
    "print(bestrandomratiolist[0:10])\n",
    "# plot the list of farms and see how consistent it is\n",
    "flist = []\n",
    "print(\"Random search on many harvests gives us: \")\n",
    "for i in bestrandomratiolist:\n",
    "    flist.append(i[-1])\n",
    "plt.hist(flist)\n",
    "plt.show()"
   ]
  },
  {
   "cell_type": "code",
   "execution_count": 1405,
   "id": "20db1864",
   "metadata": {},
   "outputs": [],
   "source": [
    "# hill climb over 1000 farm runs\n",
    "def farmHillSearch(steps=1000, mintime = 0, maxtime=72000, step_size=1000):\n",
    "    # define a variable that caps the amount of iterations if the value does not change\n",
    "    changecap = int(steps * 0.05)\n",
    "    # define a variable that counts the amount of changes done for a new best f\n",
    "    changecounter = 0\n",
    "    # make new random values for x, y and z as a base case\n",
    "    # base case\n",
    "    bestpoint = int(random.uniform(mintime, maxtime))\n",
    "    bestwheat = harvest(bestpoint)\n",
    "    bestratio = bestwheat / bestpoint\n",
    "    # for every step, make a change to previous best point, get the wheat harvested and get the ratio\n",
    "    for i in range(steps):\n",
    "        newpoint = bestpoint + int(random.gauss(0, step_size))\n",
    "        if newpoint > maxtime or newpoint < mintime:\n",
    "            newpoint = bestpoint\n",
    "        newwheat = harvest(pointtemp)\n",
    "        newratio = bestwheat / bestpoint\n",
    "        # best ratio determines what value is kept\n",
    "        if newratio > bestratio:\n",
    "            bestratio = newratio\n",
    "            bestwheat = newwheat\n",
    "            bestpoint = newpoint\n",
    "            # reset the change counter because a change has been made\n",
    "            changecounter = 0\n",
    "        # add 1 to the change counter to account for each iteration\n",
    "        changecounter += 1\n",
    "        # checks if the change counter has passed the cap of iterations without change\n",
    "        if changecounter > changecap:\n",
    "            # early return to save on time in case no changes have been made in a while\n",
    "            return bestwheat, bestpoint, bestratio\n",
    "    return bestwheat, bestpoint, bestratio"
   ]
  },
  {
   "cell_type": "code",
   "execution_count": 1406,
   "id": "c3439dd2",
   "metadata": {},
   "outputs": [
    {
     "name": "stdout",
     "output_type": "stream",
     "text": [
      "[(51, 63450, 0.0008037825059101655), (54, 68821, 0.0007846442219671321), (54, 69299, 0.0007792320235501234), (49, 65643, 0.0007464619228249775), (52, 69924, 0.0007436645500829472), (44, 63325, 0.0006948282668772207), (44, 63558, 0.0006922810661128419), (46, 67448, 0.0006820068793737398), (44, 65521, 0.000671540422154729), (47, 70388, 0.0006677274535432176)]\n",
      "Hill Climb on many harvests gives us: \n"
     ]
    },
    {
     "data": {
      "image/png": "[encoded data removed]",
      "text/plain": [
       "<Figure size 640x480 with 1 Axes>"
      ]
     },
     "metadata": {},
     "output_type": "display_data"
    }
   ],
   "source": [
    "# multiple runs on hill climb search to find roughly where the best time is\n",
    "iterations = 100\n",
    "besthillratiolist = []\n",
    "for i in range(iterations):\n",
    "    wheattemp, pointtemp, ratiotemp = farmHillSearch()\n",
    "    besthillratiolist.append((wheattemp, pointtemp, ratiotemp))\n",
    "besthillratiolist.sort(key=lambda item: item[-1], reverse = True)\n",
    "print(besthillratiolist[0:10])\n",
    "# plot the list of farms and see how consistent it is\n",
    "flist = []\n",
    "print(\"Hill Climb on many harvests gives us: \")\n",
    "for i in besthillratiolist:\n",
    "    flist.append(i[-1])\n",
    "plt.hist(flist)\n",
    "plt.show()"
   ]
  },
  {
   "cell_type": "code",
   "execution_count": 1407,
   "id": "b2dacc63",
   "metadata": {},
   "outputs": [
    {
     "name": "stdout",
     "output_type": "stream",
     "text": [
      "[(51, 63450, 0.0008037825059101655), (56, 70635, 0.0007928080979684293), (55, 69795, 0.0007880220646178094), (54, 68821, 0.0007846442219671321), (54, 69299, 0.0007792320235501234), (55, 71992, 0.0007639737748638737), (49, 65643, 0.0007464619228249775), (52, 69924, 0.0007436645500829472), (45, 60595, 0.0007426355309844046), (51, 68835, 0.0007409021573327523), (44, 59633, 0.0007378464943906897), (50, 68056, 0.0007346890795815211), (47, 64722, 0.000726182750842063), (52, 71696, 0.0007252845347020755), (49, 69494, 0.0007050968428929116), (44, 63325, 0.0006948282668772207), (44, 63558, 0.0006922810661128419), (46, 67448, 0.0006820068793737398), (44, 64955, 0.0006773920406435225), (44, 65521, 0.000671540422154729), (35, 52392, 0.0006680409222782105), (47, 70388, 0.0006677274535432176), (45, 67691, 0.0006647855697212333), (41, 62074, 0.0006605019815059445), (41, 62132, 0.0006598854052662074), (45, 69462, 0.000647836227001814), (42, 65765, 0.0006386375731772219), (37, 57949, 0.0006384924675145386), (36, 57354, 0.0006276807197405586), (35, 56145, 0.0006233858758571555)]\n",
      "Bounds for time: (60595, 71992) \n",
      "\n"
     ]
    }
   ],
   "source": [
    "# keep a running list of all total ratios\n",
    "totalratiolist = []\n",
    "# get all values gathered so far and put them in a list\n",
    "ratiolist1 = [item for sublist in zip(besthillratiolist, bestrandomratiolist) for item in sublist]\n",
    "# sort the list\n",
    "ratiolist1.sort(key=lambda item: item[-1], reverse = True)\n",
    "totalratiolist = totalratiolist + ratiolist1\n",
    "totalratiolist.sort(key=lambda item: item[-1], reverse = True)\n",
    "# print top 30 from the best gathered results\n",
    "print(totalratiolist[0:30])\n",
    "# take the top 5% of all results and keep them to determine the new bounds\n",
    "accepted = int(0.05 * len(totalratiolist))\n",
    "newtotalratiolist = totalratiolist[0:accepted]\n",
    "# find lowest and highest values of x, y and z\n",
    "zip(*newtotalratiolist)\n",
    "mins = map(min, zip(*newtotalratiolist))\n",
    "maxs = map(max, zip(*newtotalratiolist))\n",
    "allbounds = list(mins), list(maxs)\n",
    "# in case upper bound is overfitted\n",
    "timebounds = allbounds[0][1], allbounds[1][1]\n",
    "print(f\"Bounds for time: {timebounds} \\n\")"
   ]
  },
  {
   "cell_type": "code",
   "execution_count": 1408,
   "id": "6f3120e3",
   "metadata": {},
   "outputs": [
    {
     "name": "stdout",
     "output_type": "stream",
     "text": [
      "[(60, 67205, 0.0008927907149765642), (58, 66829, 0.0008678866958954944), (62, 71688, 0.0008648588327195625), (58, 67220, 0.0008628384409401964), (61, 71871, 0.0008487428865606434), (56, 66062, 0.000847688535012564), (55, 65105, 0.0008447891866984103), (60, 71239, 0.0008422352924662053), (59, 70066, 0.0008420631975565895), (60, 71276, 0.000841798080700376)]\n",
      "Hill Climb on many harvests gives us: \n"
     ]
    },
    {
     "data": {
      "image/png": "[encoded data removed]",
      "text/plain": [
       "<Figure size 640x480 with 1 Axes>"
      ]
     },
     "metadata": {},
     "output_type": "display_data"
    }
   ],
   "source": [
    "# multiple runs on hill climb search to find roughly where the best time is\n",
    "iterations = 1000\n",
    "besthillratiolist2 = []\n",
    "for i in range(iterations):\n",
    "    wheattemp, pointtemp, ratiotemp = farmHillSearch(mintime=timebounds[0], step_size=100)\n",
    "    besthillratiolist2.append((wheattemp, pointtemp, ratiotemp))\n",
    "besthillratiolist2.sort(key=lambda item: item[-1], reverse = True)\n",
    "print(besthillratiolist2[0:10])\n",
    "# plot the list of farms and see how consistent it is\n",
    "flist = []\n",
    "print(\"Hill Climb on many harvests gives us: \")\n",
    "for i in besthillratiolist2:\n",
    "    flist.append(i[-1])\n",
    "plt.hist(flist)\n",
    "plt.show()"
   ]
  },
  {
   "cell_type": "code",
   "execution_count": 1409,
   "id": "9d3efd51",
   "metadata": {},
   "outputs": [
    {
     "name": "stdout",
     "output_type": "stream",
     "text": [
      "[(60, 67205, 0.0008927907149765642), (58, 66829, 0.0008678866958954944), (62, 71688, 0.0008648588327195625), (58, 67220, 0.0008628384409401964), (61, 71871, 0.0008487428865606434), (56, 66062, 0.000847688535012564), (55, 65105, 0.0008447891866984103), (60, 71239, 0.0008422352924662053), (59, 70066, 0.0008420631975565895), (60, 71276, 0.000841798080700376), (60, 71336, 0.00084109005270831), (58, 69290, 0.0008370616250541204), (60, 71757, 0.0008361553576654542), (60, 71854, 0.0008350265816795168), (56, 67406, 0.0008307865768625939)]\n",
      "Bounds for time: (65105, 71871) \n",
      "\n"
     ]
    }
   ],
   "source": [
    "# get all values gathered so far and put them in a list\n",
    "ratiolist2 = [item for sublist in zip(besthillratiolist2) for item in sublist]\n",
    "# sort the list\n",
    "ratiolist2.sort(key=lambda item: item[-1], reverse = True)\n",
    "totalratiolist = totalratiolist + ratiolist2\n",
    "totalratiolist.sort(key=lambda item: item[-1], reverse = True)\n",
    "# print top 15 from the best gathered results\n",
    "print(totalratiolist[0:15])\n",
    "# take the top 15 of all results and keep them to determine the new bounds\n",
    "accepted = 15\n",
    "newtotalratiolist = totalratiolist[0:accepted]\n",
    "# find lowest and highest values of x, y and z\n",
    "zip(*newtotalratiolist)\n",
    "mins = map(min, zip(*newtotalratiolist))\n",
    "maxs = map(max, zip(*newtotalratiolist))\n",
    "allbounds = list(mins), list(maxs)\n",
    "# in case upper bound is overfitted\n",
    "timebounds = allbounds[0][1], allbounds[1][1]\n",
    "print(f\"Bounds for time: {timebounds} \\n\")"
   ]
  },
  {
   "cell_type": "code",
   "execution_count": 1410,
   "id": "35583bce",
   "metadata": {},
   "outputs": [
    {
     "name": "stdout",
     "output_type": "stream",
     "text": [
      "[(63, 71229, 0.0008844712125679147), (61, 70362, 0.0008669452261163696), (58, 66999, 0.0008656845624561561), (57, 66260, 0.00086024750980984), (61, 71075, 0.000858248329229687), (58, 68110, 0.0008515636470415504), (56, 65818, 0.0008508310796438664), (58, 68263, 0.0008496550107671798), (57, 67128, 0.0008491240614944583), (61, 71963, 0.0008476578241596376)]\n",
      "Hill Climb on many harvests gives us: \n"
     ]
    },
    {
     "data": {
      "image/png": "[encoded data removed]",
      "text/plain": [
       "<Figure size 640x480 with 1 Axes>"
      ]
     },
     "metadata": {},
     "output_type": "display_data"
    }
   ],
   "source": [
    "# multiple runs on hill climb search to find roughly where the best time is\n",
    "iterations = 1000\n",
    "besthillratiolist3 = []\n",
    "for i in range(iterations):\n",
    "    wheattemp, pointtemp, ratiotemp = farmHillSearch(mintime=timebounds[0], step_size=100)\n",
    "    besthillratiolist3.append((wheattemp, pointtemp, ratiotemp))\n",
    "besthillratiolist3.sort(key=lambda item: item[-1], reverse = True)\n",
    "print(besthillratiolist3[0:10])\n",
    "# plot the list of farms and see how consistent it is\n",
    "flist = []\n",
    "print(\"Hill Climb on many harvests gives us: \")\n",
    "for i in besthillratiolist3:\n",
    "    flist.append(i[-1])\n",
    "plt.hist(flist)\n",
    "plt.show()"
   ]
  },
  {
   "cell_type": "code",
   "execution_count": 1411,
   "id": "bbc0cbeb",
   "metadata": {},
   "outputs": [
    {
     "name": "stdout",
     "output_type": "stream",
     "text": [
      "[(60, 67205, 0.0008927907149765642), (63, 71229, 0.0008844712125679147), (58, 66829, 0.0008678866958954944), (61, 70362, 0.0008669452261163696), (58, 66999, 0.0008656845624561561), (62, 71688, 0.0008648588327195625), (58, 67220, 0.0008628384409401964), (57, 66260, 0.00086024750980984), (61, 71075, 0.000858248329229687), (58, 68110, 0.0008515636470415504), (56, 65818, 0.0008508310796438664), (58, 68263, 0.0008496550107671798), (57, 67128, 0.0008491240614944583), (61, 71871, 0.0008487428865606434), (56, 66062, 0.000847688535012564)]\n",
      "Bounds for time: (66260, 71688) \n",
      "\n"
     ]
    }
   ],
   "source": [
    "# get all values gathered so far and put them in a list\n",
    "ratiolist3 = [item for sublist in zip(besthillratiolist3) for item in sublist]\n",
    "# sort the list\n",
    "ratiolist3.sort(key=lambda item: item[-1], reverse = True)\n",
    "totalratiolist = totalratiolist + ratiolist3\n",
    "totalratiolist.sort(key=lambda item: item[-1], reverse = True)\n",
    "print(totalratiolist[0:15])\n",
    "# take the top 10 of all results and keep them to determine the new bounds\n",
    "accepted = 10\n",
    "newtotalratiolist = totalratiolist[0:accepted]\n",
    "# find lowest and highest values of x, y and z\n",
    "zip(*newtotalratiolist)\n",
    "mins = map(min, zip(*newtotalratiolist))\n",
    "maxs = map(max, zip(*newtotalratiolist))\n",
    "allbounds = list(mins), list(maxs)\n",
    "# in case upper bound is overfitted\n",
    "timebounds = allbounds[0][1], allbounds[1][1]\n",
    "print(f\"Bounds for time: {timebounds} \\n\")"
   ]
  },
  {
   "cell_type": "code",
   "execution_count": 1412,
   "id": "3f49cc79",
   "metadata": {},
   "outputs": [
    {
     "name": "stdout",
     "output_type": "stream",
     "text": [
      "[(60, 67589, 0.000887718415718534), (63, 71270, 0.000883962396520275), (62, 71241, 0.0008702853693799918), (60, 68950, 0.0008701957940536621), (59, 67839, 0.0008697062161883282), (60, 69030, 0.000869187309865276), (58, 66921, 0.0008666935640531373), (60, 69660, 0.0008613264427217916), (60, 70007, 0.0008570571514277144), (60, 70069, 0.0008562987911915398)]\n",
      "Hill Climb on many harvests gives us: \n"
     ]
    },
    {
     "data": {
      "image/png": "[encoded data removed]",
      "text/plain": [
       "<Figure size 640x480 with 1 Axes>"
      ]
     },
     "metadata": {},
     "output_type": "display_data"
    }
   ],
   "source": [
    "# multiple runs on hill climb search to find roughly where the best time is\n",
    "iterations = 1000\n",
    "besthillratiolist4 = []\n",
    "for i in range(iterations):\n",
    "    wheattemp, pointtemp, ratiotemp = farmHillSearch(mintime=timebounds[0], maxtime=timebounds[1], step_size=50)\n",
    "    besthillratiolist4.append((wheattemp, pointtemp, ratiotemp))\n",
    "besthillratiolist4.sort(key=lambda item: item[-1], reverse = True)\n",
    "print(besthillratiolist4[0:10])\n",
    "# plot the list of farms and see how consistent it is\n",
    "flist = []\n",
    "print(\"Hill Climb on many harvests gives us: \")\n",
    "for i in besthillratiolist4:\n",
    "    flist.append(i[-1])\n",
    "plt.hist(flist)\n",
    "plt.show()"
   ]
  },
  {
   "cell_type": "code",
   "execution_count": 1413,
   "id": "14c17601",
   "metadata": {},
   "outputs": [
    {
     "name": "stdout",
     "output_type": "stream",
     "text": [
      "[(60, 67205, 0.0008927907149765642), (60, 67589, 0.000887718415718534), (63, 71229, 0.0008844712125679147), (63, 71270, 0.000883962396520275), (62, 71241, 0.0008702853693799918), (60, 68950, 0.0008701957940536621), (59, 67839, 0.0008697062161883282), (60, 69030, 0.000869187309865276), (58, 66829, 0.0008678866958954944), (61, 70362, 0.0008669452261163696)]\n",
      "Bounds for time: (67205, 71270) \n",
      "\n"
     ]
    }
   ],
   "source": [
    "# get all values gathered so far and put them in a list\n",
    "ratiolist4 = [item for sublist in zip(besthillratiolist4) for item in sublist]\n",
    "# sort the list\n",
    "ratiolist4.sort(key=lambda item: item[-1], reverse = True)\n",
    "totalratiolist = totalratiolist + ratiolist4\n",
    "totalratiolist.sort(key=lambda item: item[-1], reverse = True)\n",
    "print(totalratiolist[0:10])\n",
    "# take the top 5 of all results and keep them to determine the new bounds\n",
    "accepted = 5\n",
    "newtotalratiolist = totalratiolist[0:accepted]\n",
    "# find lowest and highest values of x, y and z\n",
    "zip(*newtotalratiolist)\n",
    "mins = map(min, zip(*newtotalratiolist))\n",
    "maxs = map(max, zip(*newtotalratiolist))\n",
    "allbounds = list(mins), list(maxs)\n",
    "# in case upper bound is overfitted\n",
    "timebounds = allbounds[0][1], allbounds[1][1]\n",
    "print(f\"Bounds for time: {timebounds} \\n\")"
   ]
  },
  {
   "cell_type": "code",
   "execution_count": 1416,
   "id": "00461b69",
   "metadata": {},
   "outputs": [
    {
     "name": "stdout",
     "output_type": "stream",
     "text": [
      "The best time to harvest: 67205 ticks or 2.8002083333333334 minecraft days\n",
      "The expected yield from the harvest: 60 wheats\n",
      "The best wheat to time ratio: 0.0008927907149765642\n",
      "The best time to harvest a farm lies between 67205 and 71270 ticks or between 2.8002083333333334 and 2.9695833333333335 minecraft days\n",
      "The expected yield within the time lies between 60 and 63\n"
     ]
    }
   ],
   "source": [
    "print(f'The best time to harvest: {totalratiolist[0][1]} ticks or {totalratiolist[0][1]/24000} minecraft days')\n",
    "print(f'The expected yield from the harvest: {totalratiolist[0][0]} wheats')\n",
    "print(f'The best wheat to time ratio: {totalratiolist[0][2]}')\n",
    "print(f'The best time to harvest a farm lies between {timebounds[0]} and {timebounds[1]} ticks or between {timebounds[0] / 24000} and {timebounds[1] / 24000} minecraft days')\n",
    "print(f'The expected yield within the time lies between {allbounds[0][0]} and {allbounds[1][0]}')"
   ]
  }
 ],
 "metadata": {
  "kernelspec": {
   "display_name": "Python 3 (ipykernel)",
   "language": "python",
   "name": "python3"
  },
  "language_info": {
   "codemirror_mode": {
    "name": "ipython",
    "version": 3
   },
   "file_extension": ".py",
   "mimetype": "text/x-python",
   "name": "python",
   "nbconvert_exporter": "python",
   "pygments_lexer": "ipython3",
   "version": "3.9.13"
  }
 },
 "nbformat": 4,
 "nbformat_minor": 5
}
